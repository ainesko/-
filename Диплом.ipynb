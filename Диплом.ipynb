{
  "cells": [
    {
      "cell_type": "markdown",
      "metadata": {
        "id": "view-in-github",
        "colab_type": "text"
      },
      "source": [
        "<a href=\"https://colab.research.google.com/github/ainesko/diploma/blob/main/%D0%94%D0%B8%D0%BF%D0%BB%D0%BE%D0%BC.ipynb\" target=\"_parent\"><img src=\"https://colab.research.google.com/assets/colab-badge.svg\" alt=\"Open In Colab\"/></a>"
      ]
    },
    {
      "cell_type": "markdown",
      "metadata": {
        "id": "mGzcNfXWoBzW"
      },
      "source": [
        "## Базовые вычисления\n",
        "\n"
      ]
    },
    {
      "cell_type": "markdown",
      "metadata": {
        "id": "Pbas2gOU7tGh"
      },
      "source": [
        "Группы аминокислот\n",
        "\n",
        "R, K\n",
        "\n",
        "D, E\n",
        "\n",
        "S, T\n",
        "\n",
        "A, G\n",
        "\n",
        "F, Y, W\n",
        "\n",
        "M, I, L, V\n",
        "\n",
        "остальные C, P, H, Q, N\n"
      ]
    },
    {
      "cell_type": "markdown",
      "metadata": {
        "id": "b_PGk9M55UX4"
      },
      "source": [
        "Импорт библиотек"
      ]
    },
    {
      "cell_type": "code",
      "execution_count": 43,
      "metadata": {
        "id": "EaEINSULyItF"
      },
      "outputs": [],
      "source": [
        "import numpy as np"
      ]
    },
    {
      "cell_type": "markdown",
      "metadata": {
        "id": "z1S3J15C5Wzi"
      },
      "source": [
        "Скачивание выравнивания и дерева, построенного по нему"
      ]
    },
    {
      "cell_type": "code",
      "execution_count": 44,
      "metadata": {
        "colab": {
          "base_uri": "https://localhost:8080/"
        },
        "id": "ZLdMRWaBGVdl",
        "outputId": "6137afeb-dcf6-4826-fe60-fab0d370e62b"
      },
      "outputs": [
        {
          "output_type": "stream",
          "name": "stdout",
          "text": [
            "--2023-05-30 13:03:42--  https://raw.githubusercontent.com/ainesko/diploma/main/norm_alg.fa\n",
            "Resolving raw.githubusercontent.com (raw.githubusercontent.com)... 185.199.108.133, 185.199.109.133, 185.199.110.133, ...\n",
            "Connecting to raw.githubusercontent.com (raw.githubusercontent.com)|185.199.108.133|:443... connected.\n",
            "HTTP request sent, awaiting response... 200 OK\n",
            "Length: 3065 (3.0K) [text/plain]\n",
            "Saving to: ‘norm_alg.fa.1’\n",
            "\n",
            "norm_alg.fa.1       100%[===================>]   2.99K  --.-KB/s    in 0s      \n",
            "\n",
            "2023-05-30 13:03:43 (33.8 MB/s) - ‘norm_alg.fa.1’ saved [3065/3065]\n",
            "\n",
            "--2023-05-30 13:03:43--  https://raw.githubusercontent.com/ainesko/diploma/main/norm_tree\n",
            "Resolving raw.githubusercontent.com (raw.githubusercontent.com)... 185.199.108.133, 185.199.109.133, 185.199.110.133, ...\n",
            "Connecting to raw.githubusercontent.com (raw.githubusercontent.com)|185.199.108.133|:443... connected.\n",
            "HTTP request sent, awaiting response... 200 OK\n",
            "Length: 580 [text/plain]\n",
            "Saving to: ‘norm_tree.1’\n",
            "\n",
            "norm_tree.1         100%[===================>]     580  --.-KB/s    in 0s      \n",
            "\n",
            "2023-05-30 13:03:43 (29.3 MB/s) - ‘norm_tree.1’ saved [580/580]\n",
            "\n"
          ]
        }
      ],
      "source": [
        "!wget https://raw.githubusercontent.com/ainesko/diploma/main/norm_alg.fa\n",
        "!wget https://raw.githubusercontent.com/ainesko/diploma/main/norm_tree"
      ]
    },
    {
      "cell_type": "code",
      "execution_count": 45,
      "metadata": {
        "id": "Hz727jk62Kev"
      },
      "outputs": [],
      "source": [
        "tree_test = 'norm_tree'\n",
        "align_test = 'norm_alg.fa'"
      ]
    },
    {
      "cell_type": "code",
      "execution_count": 46,
      "metadata": {
        "id": "PnLksiA32JiU"
      },
      "outputs": [],
      "source": [
        "with open(tree_test, 'r') as f:\n",
        "  line = [l.strip() for l in f]  \n",
        "  tree_test = line[0]"
      ]
    },
    {
      "cell_type": "code",
      "execution_count": 47,
      "metadata": {
        "colab": {
          "base_uri": "https://localhost:8080/"
        },
        "id": "kMIKDtZP2Ce_",
        "outputId": "aa3aec3b-af9a-4a50-e78b-97c33515dc0a"
      },
      "outputs": [
        {
          "output_type": "stream",
          "name": "stdout",
          "text": [
            "--2023-05-30 13:03:43--  https://raw.githubusercontent.com/ainesko/diploma/main/PF13588_seed_align.fa\n",
            "Resolving raw.githubusercontent.com (raw.githubusercontent.com)... 185.199.108.133, 185.199.109.133, 185.199.110.133, ...\n",
            "Connecting to raw.githubusercontent.com (raw.githubusercontent.com)|185.199.108.133|:443... connected.\n",
            "HTTP request sent, awaiting response... 200 OK\n",
            "Length: 5226 (5.1K) [text/plain]\n",
            "Saving to: ‘PF13588_seed_align.fa.1’\n",
            "\n",
            "PF13588_seed_align. 100%[===================>]   5.10K  --.-KB/s    in 0s      \n",
            "\n",
            "2023-05-30 13:03:43 (48.3 MB/s) - ‘PF13588_seed_align.fa.1’ saved [5226/5226]\n",
            "\n",
            "--2023-05-30 13:03:43--  https://raw.githubusercontent.com/ainesko/diploma/main/PF13588_seed_tree\n",
            "Resolving raw.githubusercontent.com (raw.githubusercontent.com)... 185.199.108.133, 185.199.109.133, 185.199.110.133, ...\n",
            "Connecting to raw.githubusercontent.com (raw.githubusercontent.com)|185.199.108.133|:443... connected.\n",
            "HTTP request sent, awaiting response... 200 OK\n",
            "Length: 1440 (1.4K) [text/plain]\n",
            "Saving to: ‘PF13588_seed_tree.1’\n",
            "\n",
            "PF13588_seed_tree.1 100%[===================>]   1.41K  --.-KB/s    in 0s      \n",
            "\n",
            "2023-05-30 13:03:43 (17.0 MB/s) - ‘PF13588_seed_tree.1’ saved [1440/1440]\n",
            "\n"
          ]
        }
      ],
      "source": [
        "!wget https://raw.githubusercontent.com/ainesko/diploma/main/PF13588_seed_align.fa\n",
        "!wget https://raw.githubusercontent.com/ainesko/diploma/main/PF13588_seed_tree"
      ]
    },
    {
      "cell_type": "code",
      "execution_count": 48,
      "metadata": {
        "id": "AVky3xZe2g7h"
      },
      "outputs": [],
      "source": [
        "tree_1 = 'PF13588_seed_tree'\n",
        "align_1 = 'PF13588_seed_align.fa'"
      ]
    },
    {
      "cell_type": "code",
      "execution_count": 49,
      "metadata": {
        "id": "HvZ4ThEy2g7i"
      },
      "outputs": [],
      "source": [
        "with open(tree_1, 'r') as f:\n",
        "  line = [l.strip() for l in f]  \n",
        "  tree_1= line[0]"
      ]
    },
    {
      "cell_type": "code",
      "execution_count": 50,
      "metadata": {
        "colab": {
          "base_uri": "https://localhost:8080/"
        },
        "id": "nFiCia151kQB",
        "outputId": "eae771ee-c706-4351-89c5-fed2af2ea452"
      },
      "outputs": [
        {
          "output_type": "stream",
          "name": "stdout",
          "text": [
            "--2023-05-30 13:03:44--  https://raw.githubusercontent.com/ainesko/diploma/main/PF04493_seed_align.fa\n",
            "Resolving raw.githubusercontent.com (raw.githubusercontent.com)... 185.199.108.133, 185.199.109.133, 185.199.110.133, ...\n",
            "Connecting to raw.githubusercontent.com (raw.githubusercontent.com)|185.199.108.133|:443... connected.\n",
            "HTTP request sent, awaiting response... 200 OK\n",
            "Length: 30864 (30K) [text/plain]\n",
            "Saving to: ‘PF04493_seed_align.fa.1’\n",
            "\n",
            "PF04493_seed_align. 100%[===================>]  30.14K  --.-KB/s    in 0.001s  \n",
            "\n",
            "2023-05-30 13:03:44 (19.8 MB/s) - ‘PF04493_seed_align.fa.1’ saved [30864/30864]\n",
            "\n",
            "--2023-05-30 13:03:44--  https://raw.githubusercontent.com/ainesko/diploma/main/PF04493_seed_tree\n",
            "Resolving raw.githubusercontent.com (raw.githubusercontent.com)... 185.199.108.133, 185.199.109.133, 185.199.110.133, ...\n",
            "Connecting to raw.githubusercontent.com (raw.githubusercontent.com)|185.199.108.133|:443... connected.\n",
            "HTTP request sent, awaiting response... 200 OK\n",
            "Length: 4379 (4.3K) [text/plain]\n",
            "Saving to: ‘PF04493_seed_tree.1’\n",
            "\n",
            "PF04493_seed_tree.1 100%[===================>]   4.28K  --.-KB/s    in 0s      \n",
            "\n",
            "2023-05-30 13:03:44 (39.9 MB/s) - ‘PF04493_seed_tree.1’ saved [4379/4379]\n",
            "\n"
          ]
        }
      ],
      "source": [
        "!wget https://raw.githubusercontent.com/ainesko/diploma/main/PF04493_seed_align.fa\n",
        "!wget https://raw.githubusercontent.com/ainesko/diploma/main/PF04493_seed_tree"
      ]
    },
    {
      "cell_type": "code",
      "execution_count": 51,
      "metadata": {
        "id": "H8CatWPy2wMs"
      },
      "outputs": [],
      "source": [
        "tree_2 = 'PF04493_seed_tree'\n",
        "align_2 = 'PF04493_seed_align.fa'"
      ]
    },
    {
      "cell_type": "code",
      "execution_count": 52,
      "metadata": {
        "id": "31nH066F2wMt"
      },
      "outputs": [],
      "source": [
        "with open(tree_2, 'r') as f:\n",
        "  line = [l.strip() for l in f]  \n",
        "  tree_2= line[0]"
      ]
    },
    {
      "cell_type": "code",
      "execution_count": 53,
      "metadata": {
        "colab": {
          "base_uri": "https://localhost:8080/"
        },
        "id": "OKanuaoo1mKv",
        "outputId": "baedc3ec-ba5c-489d-cbb4-38c1acacb21a"
      },
      "outputs": [
        {
          "output_type": "stream",
          "name": "stdout",
          "text": [
            "--2023-05-30 13:03:44--  https://raw.githubusercontent.com/ainesko/diploma/main/PF00733_seed_align.fa\n",
            "Resolving raw.githubusercontent.com (raw.githubusercontent.com)... 185.199.108.133, 185.199.109.133, 185.199.110.133, ...\n",
            "Connecting to raw.githubusercontent.com (raw.githubusercontent.com)|185.199.108.133|:443... connected.\n",
            "HTTP request sent, awaiting response... 200 OK\n",
            "Length: 48907 (48K) [text/plain]\n",
            "Saving to: ‘PF00733_seed_align.fa.1’\n",
            "\n",
            "PF00733_seed_align. 100%[===================>]  47.76K  --.-KB/s    in 0.007s  \n",
            "\n",
            "2023-05-30 13:03:45 (6.83 MB/s) - ‘PF00733_seed_align.fa.1’ saved [48907/48907]\n",
            "\n",
            "--2023-05-30 13:03:45--  https://raw.githubusercontent.com/ainesko/diploma/main/PF00733_seed_tree\n",
            "Resolving raw.githubusercontent.com (raw.githubusercontent.com)... 185.199.108.133, 185.199.109.133, 185.199.110.133, ...\n",
            "Connecting to raw.githubusercontent.com (raw.githubusercontent.com)|185.199.108.133|:443... connected.\n",
            "HTTP request sent, awaiting response... 200 OK\n",
            "Length: 3876 (3.8K) [text/plain]\n",
            "Saving to: ‘PF00733_seed_tree.1’\n",
            "\n",
            "PF00733_seed_tree.1 100%[===================>]   3.79K  --.-KB/s    in 0s      \n",
            "\n",
            "2023-05-30 13:03:45 (46.8 MB/s) - ‘PF00733_seed_tree.1’ saved [3876/3876]\n",
            "\n"
          ]
        }
      ],
      "source": [
        "!wget https://raw.githubusercontent.com/ainesko/diploma/main/PF00733_seed_align.fa\n",
        "!wget https://raw.githubusercontent.com/ainesko/diploma/main/PF00733_seed_tree"
      ]
    },
    {
      "cell_type": "code",
      "execution_count": 54,
      "metadata": {
        "id": "KkMqZN1C23tP"
      },
      "outputs": [],
      "source": [
        "tree_3 = 'PF00733_seed_tree'\n",
        "align_3 = 'PF00733_seed_align.fa'"
      ]
    },
    {
      "cell_type": "code",
      "execution_count": 55,
      "metadata": {
        "id": "WFycJLH_23tP"
      },
      "outputs": [],
      "source": [
        "with open(tree_3, 'r') as f:\n",
        "  line = [l.strip() for l in f]  \n",
        "  tree_3 = line[0]"
      ]
    },
    {
      "cell_type": "code",
      "execution_count": 56,
      "metadata": {
        "colab": {
          "base_uri": "https://localhost:8080/"
        },
        "id": "CVJtFDsa1m3f",
        "outputId": "16e8ada7-acb2-492b-bd9b-87ce46935924"
      },
      "outputs": [
        {
          "output_type": "stream",
          "name": "stdout",
          "text": [
            "--2023-05-30 13:03:45--  https://raw.githubusercontent.com/ainesko/diploma/main/PF00067_seed_align.fa\n",
            "Resolving raw.githubusercontent.com (raw.githubusercontent.com)... 185.199.108.133, 185.199.109.133, 185.199.110.133, ...\n",
            "Connecting to raw.githubusercontent.com (raw.githubusercontent.com)|185.199.108.133|:443... connected.\n",
            "HTTP request sent, awaiting response... 200 OK\n",
            "Length: 29223 (29K) [text/plain]\n",
            "Saving to: ‘PF00067_seed_align.fa.1’\n",
            "\n",
            "PF00067_seed_align. 100%[===================>]  28.54K  --.-KB/s    in 0.002s  \n",
            "\n",
            "2023-05-30 13:03:45 (18.4 MB/s) - ‘PF00067_seed_align.fa.1’ saved [29223/29223]\n",
            "\n",
            "--2023-05-30 13:03:45--  https://raw.githubusercontent.com/ainesko/diploma/main/PF00067_seed_tree\n",
            "Resolving raw.githubusercontent.com (raw.githubusercontent.com)... 185.199.108.133, 185.199.109.133, 185.199.110.133, ...\n",
            "Connecting to raw.githubusercontent.com (raw.githubusercontent.com)|185.199.108.133|:443... connected.\n",
            "HTTP request sent, awaiting response... 200 OK\n",
            "Length: 2358 (2.3K) [text/plain]\n",
            "Saving to: ‘PF00067_seed_tree.1’\n",
            "\n",
            "PF00067_seed_tree.1 100%[===================>]   2.30K  --.-KB/s    in 0s      \n",
            "\n",
            "2023-05-30 13:03:45 (47.4 MB/s) - ‘PF00067_seed_tree.1’ saved [2358/2358]\n",
            "\n"
          ]
        }
      ],
      "source": [
        "!wget https://raw.githubusercontent.com/ainesko/diploma/main/PF00067_seed_align.fa\n",
        "!wget https://raw.githubusercontent.com/ainesko/diploma/main/PF00067_seed_tree"
      ]
    },
    {
      "cell_type": "code",
      "execution_count": 57,
      "metadata": {
        "id": "RvDnox5b3FKu"
      },
      "outputs": [],
      "source": [
        "tree_5 = 'PF00067_seed_tree'\n",
        "align_5 = 'PF00067_seed_align.fa'"
      ]
    },
    {
      "cell_type": "code",
      "execution_count": 58,
      "metadata": {
        "id": "RF9nschd3FKv"
      },
      "outputs": [],
      "source": [
        "with open(tree_5, 'r') as f:\n",
        "  line = [l.strip() for l in f]  \n",
        "  tree_5 = line[0]"
      ]
    },
    {
      "cell_type": "code",
      "execution_count": 59,
      "metadata": {
        "colab": {
          "base_uri": "https://localhost:8080/"
        },
        "id": "WMSyvwHn1oVU",
        "outputId": "7a8643b9-c41e-4efa-9bba-f9a9a7c9973a"
      },
      "outputs": [
        {
          "output_type": "stream",
          "name": "stdout",
          "text": [
            "--2023-05-30 13:03:45--  https://raw.githubusercontent.com/ainesko/diploma/main/cat_align.fa\n",
            "Resolving raw.githubusercontent.com (raw.githubusercontent.com)... 185.199.111.133, 185.199.109.133, 185.199.110.133, ...\n",
            "Connecting to raw.githubusercontent.com (raw.githubusercontent.com)|185.199.111.133|:443... connected.\n",
            "HTTP request sent, awaiting response... 200 OK\n",
            "Length: 32680 (32K) [text/plain]\n",
            "Saving to: ‘cat_align.fa.1’\n",
            "\n",
            "cat_align.fa.1      100%[===================>]  31.91K  --.-KB/s    in 0.002s  \n",
            "\n",
            "2023-05-30 13:03:46 (15.7 MB/s) - ‘cat_align.fa.1’ saved [32680/32680]\n",
            "\n",
            "--2023-05-30 13:03:46--  https://raw.githubusercontent.com/ainesko/diploma/main/Cat_tree\n",
            "Resolving raw.githubusercontent.com (raw.githubusercontent.com)... 185.199.108.133, 185.199.109.133, 185.199.110.133, ...\n",
            "Connecting to raw.githubusercontent.com (raw.githubusercontent.com)|185.199.108.133|:443... connected.\n",
            "HTTP request sent, awaiting response... 200 OK\n",
            "Length: 1680 (1.6K) [text/plain]\n",
            "Saving to: ‘Cat_tree.1’\n",
            "\n",
            "Cat_tree.1          100%[===================>]   1.64K  --.-KB/s    in 0s      \n",
            "\n",
            "2023-05-30 13:03:46 (27.9 MB/s) - ‘Cat_tree.1’ saved [1680/1680]\n",
            "\n"
          ]
        }
      ],
      "source": [
        "!wget https://raw.githubusercontent.com/ainesko/diploma/main/cat_align.fa\n",
        "!wget https://raw.githubusercontent.com/ainesko/diploma/main/Cat_tree"
      ]
    },
    {
      "cell_type": "code",
      "execution_count": 60,
      "metadata": {
        "id": "MK9SpcVv3OxO"
      },
      "outputs": [],
      "source": [
        "tree_6 = 'Cat_tree'\n",
        "align_6 = 'cat_align.fa'"
      ]
    },
    {
      "cell_type": "code",
      "execution_count": 61,
      "metadata": {
        "id": "6hgPmlbg3OxP"
      },
      "outputs": [],
      "source": [
        "with open(tree_6, 'r') as f:\n",
        "  line = [l.strip() for l in f]  \n",
        "  tree_6 = line[0]"
      ]
    },
    {
      "cell_type": "markdown",
      "metadata": {
        "id": "TIVbuKRqgiaS"
      },
      "source": [
        "Разбиение аминокислот на группы"
      ]
    },
    {
      "cell_type": "code",
      "execution_count": 62,
      "metadata": {
        "id": "9p_1Bm_FYGcy"
      },
      "outputs": [],
      "source": [
        "dic_group = {'S': 1, 'T': 1, 'F': 2, 'Y': 2, 'W': 2, 'R': 3, 'K': 3, 'H': 4, 'D': 5, 'E': 5,  'A': 6, 'G': 6, \n",
        "        'M': 7, 'I': 7, 'L': 7, 'V': 7, 'P': 8,  'Q': 9, 'N': 9, 'C': 10}"
      ]
    },
    {
      "cell_type": "markdown",
      "metadata": {
        "id": "yyvacEBGglUu"
      },
      "source": [
        "Определение частот аминокислотных остатков по выравниванию"
      ]
    },
    {
      "cell_type": "code",
      "execution_count": 63,
      "metadata": {
        "id": "nrTv60DvgrkS"
      },
      "outputs": [],
      "source": [
        "def dic_prob(align):\n",
        "  prob = {}\n",
        "  for amin in dic_group.keys():\n",
        "    value = 0\n",
        "    for l in align:\n",
        "      value += l.count(amin)\n",
        "    prob[amin] = value\n",
        "  s = sum(prob.values())\n",
        "  for amin in prob.keys():\n",
        "    prob[amin] /= s\n",
        "  return prob\n"
      ]
    },
    {
      "cell_type": "markdown",
      "metadata": {
        "id": "ivzk8VpbjHtX"
      },
      "source": [
        "Определение частот групп аминокислот"
      ]
    },
    {
      "cell_type": "code",
      "execution_count": 64,
      "metadata": {
        "id": "SOPtydYit3jA"
      },
      "outputs": [],
      "source": [
        "def dic_group_prob(align):\n",
        "  group_prob = {}\n",
        "  groups = set(dic_group.values())\n",
        "  for el in groups:\n",
        "    value = 0\n",
        "    for amin in dic_group.keys():\n",
        "      if dic_group[amin] == el:\n",
        "        value += (dic_prob(align))[amin]\n",
        "    group_prob[el] = value\n",
        "  return group_prob"
      ]
    },
    {
      "cell_type": "markdown",
      "metadata": {
        "id": "137GkS_an5nW"
      },
      "source": [
        "## Выделение клады из дерева в формате Newick "
      ]
    },
    {
      "cell_type": "code",
      "execution_count": 65,
      "metadata": {
        "id": "-dJyTKndN2h4"
      },
      "outputs": [],
      "source": [
        "#ищем координаты правильных скобочных подпоследовательностей\n",
        "def corr_brack_coords(tree):\n",
        "  bracket_count = tree.count('(')\n",
        "  open_brack = [] #координаты открывающихся скобок\n",
        "  close_brack = [] #координаты закрывающихся скобок\n",
        "  for i in range(len(tree)):\n",
        "    if tree[i] == '(':\n",
        "      open_brack.append(i)\n",
        "  for brack in open_brack:\n",
        "    word = tree[brack:]\n",
        "    for j in range(len(word)):\n",
        "      if word[j] == ')' and word[:j + 1].count('(') ==  word[:j + 1].count(')'): #скобки парные, если между ними число открывающихся и закрывающихся равно\n",
        "        close_brack.append(j + brack) \n",
        "        break\n",
        "  bracket_coord = []\n",
        "  for i in range(len(open_brack)):\n",
        "    bracket_coord.append([open_brack[i], close_brack[i]]) #составляем пары координат правильных скобочных последовательностей\n",
        "  return bracket_coord "
      ]
    },
    {
      "cell_type": "code",
      "execution_count": 66,
      "metadata": {
        "id": "VOcPECS6uDCE"
      },
      "outputs": [],
      "source": [
        "#По координатам начала i и конца j правильной скобочной последовательности определяем имена последовательностей в кладе дерева tree\n",
        "def create_clade(i, j, tree):\n",
        "  leaf = tree[i: j + 1]\n",
        "  s = 0 #последнее место анализа дерева\n",
        "  names = []\n",
        "  while s < leaf.rfind(':'): #последнее имя листа находится между последним и предпоследним двоеточием\n",
        "    k = leaf[s:].find(':') + s #после имени листа всегда идёт двоеточие, по нему будем искать\n",
        "    m = leaf[s:].find('(') + s\n",
        "    if m < k and leaf[s:].find('(') >= 0: #часто имя листа между открывающейся скобкой и двоеточием\n",
        "      left = leaf[:k].rfind('(') #тогда это имя между двоеточием и самой ближней к нему слева открывающейся скобкой \n",
        "      names.append(leaf[left + 1: k])\n",
        "      s = k + 1\n",
        "    else:\n",
        "      if leaf[k - 1] == ')': #иногда двоеточие относится к большой кладе, тогда оно рядом с закрывающейся скобкой, там нет неучтённого имени листа\n",
        "        s = k + 1\n",
        "      else:\n",
        "        l = leaf[s:].find(',') + s #иногда имя листа находится в одной кладе с предыдущим, тогда перед ним стоит запятая\n",
        "        names.append(leaf[l + 1: k])\n",
        "        s = k + 1\n",
        "  return names"
      ]
    },
    {
      "cell_type": "code",
      "execution_count": 67,
      "metadata": {
        "id": "Zxe1gcOD6rn1"
      },
      "outputs": [],
      "source": [
        "def clade_seq(names, align):\n",
        "  with open(align, 'r') as f:\n",
        "    line = [l.strip() for l in f]\n",
        "    leaf_seq = []\n",
        "    other_seq = []\n",
        "    k = len(line)\n",
        "    for i in range(k):\n",
        "      s = str(line[i])\n",
        "      if s[0] == '>':\n",
        "        l = s.index('/')\n",
        "        s = s[1:l]\n",
        "        if s in names:\n",
        "          j = 1\n",
        "          l_s = ''\n",
        "          while (i + j < k) and str(line[i + j])[0] != '>':\n",
        "            l_s += str(line[i + j])\n",
        "            j += 1\n",
        "          leaf_seq.append(l_s)\n",
        "        else:\n",
        "          j = 1\n",
        "          o_s = ''\n",
        "          while (i + j < k) and (str(line[i + j])[0] != '>'):\n",
        "            o_s += str(line[i + j])\n",
        "            j += 1\n",
        "          other_seq.append(o_s)\n",
        "  return leaf_seq, other_seq"
      ]
    },
    {
      "cell_type": "code",
      "execution_count": 68,
      "metadata": {
        "id": "rFMBXrKIGEmv"
      },
      "outputs": [],
      "source": [
        "#новая версия\n",
        "def no_gap_block(mass):\n",
        "  gap = [] #позиции гэпов\n",
        "  gap.append(-1)\n",
        "  col = [] #позиции столбцов без гэпов\n",
        "  blocks = []\n",
        "  l = len(mass[0]) #длина выравнивания\n",
        "  for i in range(l):\n",
        "     for j in range(len(mass)): #len(mass) - количество последовательностей в выравнивании\n",
        "       if mass[j][i] == '-':\n",
        "         gap.append(i) #если где-то в столбце оказался гэп - добавляем столбец в массив гэпов, перестаём перебирать последовательности для этого столбца\n",
        "         break\n",
        "     if i not in gap:\n",
        "       col.append(i) #если не вышли из цикла и гэпов не нашлось\n",
        "  for i in range(len(gap) - 1):\n",
        "    if gap[i + 1] - gap[i] > 5: #если между двумя соседними позициями гэпов есть хотя бы 5 столбцов без гэпов\n",
        "      block = [] #то там есть блок без гэпов, запишем его\n",
        "      for seq in mass:\n",
        "        block.append(seq[gap[i] + 1 : gap[i + 1]]) #отдельно для каждой последовательности в выравнивании вырежем нужный фрагмент и добавим его в промежуточный массив\n",
        "      blocks.append(block) #множество вырезанных фрагментов, блок без гэпов, добавим к другим блокам без гэпов\n",
        "  t = 0\n",
        "  col_fix = []\n",
        "  for i in range(len(col) - 1):\n",
        "    if col[i] + 1 != col[i + 1]:\n",
        "      if col[i] - col[t] >= 4:\n",
        "        col_fix.append(col[t])\n",
        "      t = i + 1\n",
        "  if col[len(col) - 1] - t:\n",
        "    col_fix.append(col[t])  \n",
        "  return col_fix, blocks"
      ]
    },
    {
      "cell_type": "code",
      "execution_count": 69,
      "metadata": {
        "id": "OEtvk-4dhrrW"
      },
      "outputs": [],
      "source": [
        "#Функция находит консервативные участки\n",
        "def cons(align):\n",
        "  func_cons = list(np.arange(len(align[0]))) #создадим список из всех номеров столбцов блока, в дальнейшем оставим здесь только функционально консервативные столбцы\n",
        "  only_cons = [] #здесь будем записывать консервативные столбцы\n",
        "  patterns = [] #для каждого функционально консервативного столбца будем записывать сюда соответствующие ему аминокислотные остатки \n",
        "  for i in range(len(align[0])):\n",
        "    k = 0\n",
        "    amino = [] #сюда будем для нашего столбца записывать буквы, которые в нём встречаются\n",
        "    for j in range(len(align)): \n",
        "      if dic_group[align[j][i]] != dic_group[align[0][i]]: #если аминокислота не той же группы, что первая в этом столбце\n",
        "        func_cons.remove(i) #то столбец не функционально консервативный, уберём его из списка\n",
        "        break\n",
        "      else:\n",
        "        if align[j][i] not in amino:\n",
        "          amino.append(align[j][i]) #если из той же группы, то запишем её в список букв, если ещё не записали\n",
        "    if i in func_cons: #если мы проверили все последовательности, и для них столбец оказался функционально консервативным\n",
        "      if len(amino) == 1:\n",
        "        only_cons.append(i) #если в списке оказалось только одно значение, то столбец консервативный\n",
        "      patterns.append(amino) #все буквы, встречающиеся в функционально консервативном столбце включим в паттерн\n",
        "  return func_cons, only_cons, patterns"
      ]
    },
    {
      "cell_type": "code",
      "execution_count": 70,
      "metadata": {
        "id": "KfR64GTnvRSZ"
      },
      "outputs": [],
      "source": [
        "#Выделяем достоверные участки выравнивания в блоке без гэпов\n",
        "import scipy.special\n",
        "import math\n",
        "def reliable(align, threshold = 10 ** (-10)):\n",
        "  if cons(align)[0] == []:\n",
        "    return [], []\n",
        "  func_cons = cons(align)[0]\n",
        "  only_cons = cons(align)[1]\n",
        "  patterns = cons(align)[2]\n",
        "  first = func_cons[0]\n",
        "  index = 0\n",
        "  dost = []\n",
        "  dost_seq = []\n",
        "  dost_patterns = []\n",
        "  coord = []\n",
        "  p = 1\n",
        "  for i in dic_group_prob(align).values():\n",
        "    p -= i ** len(align) #вероятность получения неконсервативного столбца в данном выравнивании\n",
        "  while index < len(func_cons) - 1:\n",
        "    last = len(func_cons) - 1\n",
        "    prob = 1\n",
        "    while last > index and prob > threshold:\n",
        "      non_cons_col = func_cons[last] - func_cons[index] - (last - index)\n",
        "      cons_col = 1\n",
        "      for i in range(index, last + 1): #считаем вероятность получить набор столбцов с такими паттернами, как в нашем фрагменте\n",
        "        if len(patterns[i]) > 1:\n",
        "          cons_col *= dic_group_prob(align)[dic_group[(patterns[i])[0]]] ** (len(align)) #случай функционально консервативного столбца\n",
        "        else:\n",
        "          cons_col *= dic_prob(align)[(patterns[i])[0]] ** (len(align)) #случай консервативного столбца\n",
        "      # домножаем эту вероятность на вероятность получения неконсервативных столбцов и расположение их в нужном количестве\n",
        "      prob = p ** non_cons_col * math.factorial(last - index + 1) * cons_col * scipy.special.comb(func_cons[last] - func_cons[index] - 1, last - index - 1)\n",
        "      last -= 1\n",
        "    if prob > threshold:\n",
        "      index += 1\n",
        "    else:\n",
        "      dost.append([func_cons[index], func_cons[last]])\n",
        "      seqs = []\n",
        "      for seq in align:\n",
        "        seqs.append(seq[func_cons[index]: func_cons[last] + 1])\n",
        "      dost_seq.append(seqs)\n",
        "      #записываем паттерн данного достоверного блока\n",
        "      pat = patterns[index: func_cons[last] + 1]\n",
        "      pat_ans = []\n",
        "      k = 0\n",
        "      t = 0\n",
        "      for l in range(len(dost_seq[0][0])):\n",
        "        if l + func_cons[index] in func_cons:\n",
        "          if t != 0:\n",
        "            pat_ans.append(f'X{t}')\n",
        "          pat_ans.append(pat[k])\n",
        "          k += 1\n",
        "          t = 0\n",
        "        else:\n",
        "          t += 1\n",
        "      dost_patterns.append(pat_ans)\n",
        "      index = last + 1\n",
        "  return dost_seq, dost_patterns, dost\n"
      ]
    },
    {
      "cell_type": "code",
      "execution_count": 71,
      "metadata": {
        "id": "aTY0Al-J3NK9"
      },
      "outputs": [],
      "source": [
        "def transformation(pattern):\n",
        "  p = pattern.copy()\n",
        "  noise = 0\n",
        "  i = 0\n",
        "  while i < len(p):\n",
        "    if type(p[i]) == str:\n",
        "      k = int(p[i][1:])\n",
        "      p[i] = 0\n",
        "      noise += k\n",
        "      for j in range(k - 1):\n",
        "        p.insert(i, 0)\n",
        "    i += 1\n",
        "  return p, noise"
      ]
    },
    {
      "cell_type": "code",
      "execution_count": 73,
      "metadata": {
        "id": "b3jLU1zH__kK"
      },
      "outputs": [],
      "source": [
        "def search_pattern(first_part, first_pattern, first_coord, second_align, first_align, all_cons):\n",
        "  if len(first_pattern) > 0:\n",
        "    ans = []\n",
        "    for i in range(len(first_pattern)):\n",
        "      last = len(first_pattern[i][0]) + first_coord[i]\n",
        "      pattern_cons = []\n",
        "      for c in all_cons:\n",
        "        if c <= last and c >= first_coord[i]:\n",
        "          pattern_cons.append(c)\n",
        "      pattern_blocks = []\n",
        "      index_pattern_blocks = []\n",
        "      all_cons_pat = cons(first_part[i][0])[0]\n",
        "      for l in range(len(all_cons_pat)):\n",
        "        all_cons_pat[l] = all_cons_pat[l] + first_coord[i]\n",
        "      total = []\n",
        "      for t in all_cons_pat:\n",
        "        if t <= last and t not in all_cons:\n",
        "          total.append(t)\n",
        "      cons_pat = []\n",
        "      if len(total) > 1:\n",
        "        p = [total[0]]\n",
        "        for j in range(len(total) - 1):\n",
        "          if all_cons_pat.index(total[j]) + 1 == all_cons_pat.index(total[j + 1]):\n",
        "            p.append(total[j + 1])\n",
        "          else:\n",
        "            cons_pat.append(p)\n",
        "            p = [total[j + 1]]\n",
        "        if total[len(total) - 1] in p:\n",
        "          cons_pat.append(p)\n",
        "      coord = list(np.arange(first_coord[i], last + 1))\n",
        "      new_patterns = []\n",
        "      new_index = []\n",
        "      if len(cons_pat) > 0:\n",
        "        for j in range(len(cons_pat)):\n",
        "          if len(cons_pat[j]) > 1:\n",
        "            start = coord.index(cons_pat[j][0])\n",
        "            finish = coord.index(cons_pat[j][len(cons_pat[j]) - 1])\n",
        "            new_patterns.append(first_pattern[i][0][start: finish + 1])\n",
        "            new_index.append(cons_pat[j][0])\n",
        "      if len(new_patterns) > 0:\n",
        "        bad = []\n",
        "        for j in range(len(new_patterns)):\n",
        "          if type(new_patterns[j][0]) == str:\n",
        "            new_patterns[j].remove(new_patterns[j][0])\n",
        "            if len(new_patterns[j]) > 1:\n",
        "              new_index[j] += 1\n",
        "          n = len(new_patterns[j])\n",
        "          if type(new_patterns[j][n - 1]) == str:\n",
        "            new_patterns[j].remove(new_patterns[j][n - 1])\n",
        "          if len(new_patterns[j]) <= 1:\n",
        "            bad.append(j)\n",
        "        for j in bad:\n",
        "          new_patterns.remove(new_patterns[j])\n",
        "          new_index.remove(new_index[j])\n",
        "        good_patterns = []\n",
        "        for j in range(len(new_patterns)):\n",
        "          pat = transformation(new_patterns[j])\n",
        "          start = new_index[j]\n",
        "          pow = 0\n",
        "          for s in second_align:\n",
        "            match_pos = 0\n",
        "            for pos in range(len(pat)):\n",
        "              if not((s[start + pos] != '-' and pat[0][pos]!= 0 and dic_group[s[start + pos]] == dic_group[pat[0][pos][0]])):\n",
        "                match_pos += 1\n",
        "              else: \n",
        "                break\n",
        "            if match_pos > 0:\n",
        "              pow += 1\n",
        "            else: \n",
        "              break\n",
        "          if pow == len(second_align):\n",
        "            good_patterns.append([new_patterns[j], new_index[j]])\n",
        "        ans.append(good_patterns)\n",
        "    return ans\n",
        "  else:\n",
        "    return []"
      ]
    },
    {
      "cell_type": "code",
      "execution_count": 91,
      "metadata": {
        "id": "X_bpk5NN4Vm0"
      },
      "outputs": [],
      "source": [
        "def results(tree, align, threshold_1=10**(-10)):\n",
        "  bracket_coord = corr_brack_coords(tree)\n",
        "  count_total = []\n",
        "  names = create_clade(bracket_coord[0][0], bracket_coord[0][1], tree)\n",
        "  coordinates = no_gap_block(clade_seq(names, align)[0])[0]\n",
        "  all_cons = []\n",
        "  for i in range(len(no_gap_block(clade_seq(names, align)[0])[1])):\n",
        "    all = no_gap_block(clade_seq(names, align)[0])[1][i]\n",
        "    cons_coord = []\n",
        "    for j in range(len((cons(all))[0])):\n",
        "      cons_coord.append(cons(all)[0][j] + coordinates[i])\n",
        "    if len(cons_coord) > 0:\n",
        "      for el in cons_coord:\n",
        "        all_cons.append(el)\n",
        "  for brackets in bracket_coord:\n",
        "    first_patterns = []\n",
        "    second_patterns = []\n",
        "    first_blocks = []\n",
        "    second_blocks = []\n",
        "    first_coord = []\n",
        "    second_coord = []\n",
        "    names = create_clade(brackets[0], brackets[1], tree)\n",
        "    if len(clade_seq(names, align)[0]) * len(clade_seq(names, align)[1]) > 0:\n",
        "      first_align = no_gap_block(clade_seq(names, align)[0])\n",
        "      second_align = no_gap_block(clade_seq(names, align)[1])\n",
        "      sec_al = clade_seq(names, align)[1]\n",
        "      fir_al = clade_seq(names, align)[0]\n",
        "      for i in range(len(first_align[1])):\n",
        "        if len(reliable(first_align[1][i], threshold_1)) * len(reliable(first_align[1][i], threshold_1)[0]) > 0:\n",
        "          if len(reliable(first_align[1][i], threshold_1)[1][0]) > 1:\n",
        "            first_patterns.append(reliable(first_align[1][i], threshold_1)[1])\n",
        "            first_blocks.append(reliable(first_align[1][i], threshold_1)[0])\n",
        "            first_coord.append((reliable(first_align[1][i], threshold_1)[2])[0][0] + first_align[0][i])\n",
        "      for i in range(len(second_align[1])):\n",
        "        if len(reliable(second_align[1][i], threshold_1)) * len(reliable(second_align[1][i], threshold_1)[0]) > 0:\n",
        "          if len(reliable(second_align[1][i], threshold_1)[1][0]) > 1:\n",
        "            second_patterns.append(reliable(second_align[1][i], threshold_1)[1])\n",
        "            second_blocks.append(reliable(second_align[1][i], threshold_1)[0])\n",
        "            second_coord.append((reliable(second_align[1][i], threshold_1)[2])[0][0] + second_align[0][i])\n",
        "            \n",
        "      values_1 = search_pattern(first_blocks, first_patterns, first_coord, sec_al, fir_al, all_cons)\n",
        "      if len(values_1) > 0:\n",
        "        for pat in values_1:\n",
        "          if len(pat) > 0:\n",
        "            if fir_al[0][pat[0][1]] ==  pat[0][0][0] or fir_al[0][pat[0][1]] in pat[0][0][0]:\n",
        "              print('Имена последовательностей первой части', names)\n",
        "              print('Паттерн, отличающий первую часть последовательностей от второй', pat[0][0])\n",
        "              n = len(transformation(pat[0][0])[0])\n",
        "              seq_1 = []\n",
        "              for seq in fir_al:\n",
        "                seq_1.append(seq[pat[0][1]: pat[0][1] + n])\n",
        "              print('Фрагменты последовательностей первой части, соответствующие этому паттерну', seq_1)\n",
        "              seq_2 = []\n",
        "              for seq in sec_al:\n",
        "                seq_2.append(seq[pat[0][1]: pat[0][1] + n])\n",
        "              print('Фрагменты последовательностей второй части, соответствующие этому паттерну', seq_2) \n",
        "              print('\\n') \n",
        "       \n",
        "\n",
        "      values_2 = search_pattern(second_blocks, second_patterns, second_coord, fir_al, sec_al, all_cons)\n",
        "      if len(values_2) > 0:\n",
        "        for pat in values_2:\n",
        "          if len(pat) > 0:\n",
        "            if sec_al[0][pat[0][1]] ==  pat[0][0][0] or sec_al[0][pat[0][1]] in pat[0][0][0]:\n",
        "              print('Имена последовательностей первой части', names)\n",
        "              print('Паттерн, отличающий вторую часть последовательностей от первой', pat[0][0])\n",
        "              n = len(transformation(pat[0][0])[0])\n",
        "              seq_1 = []\n",
        "              for seq in fir_al:\n",
        "                seq_1.append(seq[pat[0][1]: pat[0][1] + n])\n",
        "              print('Фрагменты последовательностей первой части, соответствующие этому паттерну', seq_1)\n",
        "              seq_2 = []\n",
        "              for seq in sec_al:\n",
        "                seq_2.append(seq[pat[0][1]: pat[0][1] + n])\n",
        "              print('Фрагменты последовательностей второй части, соответствующие этому паттерну', seq_2)    \n",
        "              print('\\n')"
      ]
    },
    {
      "cell_type": "code",
      "source": [
        "results(tree_5, align_5, threshold_1=10**(-10))"
      ],
      "metadata": {
        "colab": {
          "base_uri": "https://localhost:8080/"
        },
        "id": "ilx5cP7651yR",
        "outputId": "0502108b-450d-4187-8061-c50bda65b23f"
      },
      "execution_count": 96,
      "outputs": [
        {
          "output_type": "stream",
          "name": "stdout",
          "text": [
            "Имена последовательностей первой части ['C77A2_SOLME', 'C77A1_SOLME']\n",
            "Паттерн, отличающий первую часть последовательностей от второй [['R'], ['L'], ['M', 'I'], ['E'], ['N'], ['P'], 'X1', ['I'], ['Q'], 'X1', ['Q'], ['L'], ['Y'], 'X1', ['E'], ['I'], ['K']]\n",
            "Фрагменты последовательностей первой части, соответствующие этому паттерну ['RLMENPTIQNQLYQEIK', 'RLIENPNIQSQLYEEIK']\n",
            "Фрагменты последовательностей второй части, соответствующие этому паттерну ['HLSKDPEIQEALHEEVV', 'ELARNPDVQKALRQESL', 'ELARNPEVQQAVRQESL', 'ELARHPDLQEELRAEVA', 'EMARNLKVQDMLRAEVL', 'EMARSLNVQEMLREEVL', 'LVAEYPEVEAAILKEIH', 'LIADDPTVEEKMMREIE', 'HLAKHPEYQERCRQEVQ', 'NLANDPEYQERCRQEVQ', 'CMALYPEHQHRCREEVR', 'ALATHPEHQQRCREEVQ', 'ALATHPEHQERCREEVQ', 'LLGSHPEIQDKVYEELD', 'NIATHPEAQKKCFEEIR', 'LLATHPDVQQKLQEEID', 'SLATHPDTQKKLQEEID', 'ELAKNPDIQDKLIAEID', 'ELAQNQDIQDRLRNEIQ', 'ELAQNQQLQDRLREEVN', 'FLYTNPRTLRRLREELD', 'WCMRTPGVIEKLHKALD', 'QMIRNPEAMKAATEEVK', 'HLAERPDVQQELYEEQM', 'FLYDDKSLYSELRNN--', 'FLVHNPEVKRKIQKEID', 'FLLHNPQVKKKLYEEID', 'YLLHHPSLKKRIQDDID', 'YLIHHPQVQQRIQEELD', 'YLLHYPEVQKKIQEEMD', 'LMILYPDVQRRVQQEID', 'FMILRPDVQCRVQQEID', 'LMILHPDVQRRVQQEID', 'ALMKYPKVQARVQEEID', 'LMLKYPHVAEKVQKEID', 'LIMKHPEVQTKIYEEIN', 'LLMKHPDVEAKVHEEIE', 'ILLKHPEIEEKMHKEID', 'ILMKYPEIEEKLHEEID', 'LLMKYPEVQAKVHEELD', 'LLLKYPEVTAKIQEEIT', 'LLLKHPEITAKVQEEIE', 'LLMKHPEVIAKVQEEIE', 'LLMKYPHVTAKVQEEID', 'LLMKYPHITDKVQEEIG', 'EMMKNPTIFKKAQQEMD', 'ELLRHPEAMAKVKTEIS', 'ELVNHPEIQAKLRHELD']\n",
            "\n",
            "\n",
            "Имена последовательностей первой части ['C76A2_SOLME', 'C75A2_SOLME']\n",
            "Паттерн, отличающий первую часть последовательностей от второй [['E', 'D'], 'X1', ['R', 'K'], ['G'], ['N', 'Q'], 'X1', ['F', 'Y'], 'X1', ['L'], ['I'], ['P']]\n",
            "Фрагменты последовательностей первой части, соответствующие этому паттерну ['EHRGNDFELIP', 'DVKGQHYGLIP']\n",
            "Фрагменты последовательностей второй части, соответствующие этому паттерну ['PRIQHPFGSVP', '-----SFQHLA', '-S-GSRFPHLA', '----QYFRSLG', '-N-ITYFRNLG', '-D-LIHFRNLG', '---VPYRYFQP', '---VPSRYFQP', '-KERSPLAFIP', '-KDSSPLAFIP', '-SKRHPFAFMP', '-SPRHSHSFLP', '-SPRHSHAYLP', '-AKRHPYAYVP', 'AEKLNPYAYIP', '-DNINPYIYHP', '-GSIDPYVYLP', '-KDRHPCAYLP', '-AARESVEWLP', '-KQRDSVDWLG', '--NLNIGGSFA', 'P--RQKAAFIP', 'NGLKLKYYYMP', 'ISKGVSSPYLP', '--------HLT', 'LI-TPTPSYLP', 'LI-SPSVSYLP', 'LI-SPSLSYLP', 'LC-IPSPSYLP', 'IH-SPSPSYLP', 'NF-VKHEAFMP', 'NF-VKHEAFMP', 'RF-VKQEAFIP', '-SFKKSPAFMP', 'AL-KKSEAFMP', 'RF-KKNEAFVP', 'QL-KKNAAFLP', 'TF-RRSDYFMP', 'KF-KYSDYFKP', 'CF-KKTDYFVP', 'NF-KKSDYFMA', 'NF-KKSDYFMP', 'KF-RKSDYFMP', 'NF-KKSDYFLP', 'NF-KKSDYFMP', 'AN-GNDFRYLP', 'ITGVKEVKMMP', 'ITGVSGVKMIP']\n",
            "\n",
            "\n",
            "Имена последовательностей первой части ['CP2CC_RAT', 'CP2C7_RAT', 'CP2C1_RABIT', 'CP2C3_RABIT', 'CP270_RAT']\n",
            "Паттерн, отличающий первую часть последовательностей от второй [['C'], 'X1', ['P'], 'X2', ['L', 'I'], ['L', 'I'], 'X3', ['P'], ['C'], ['N'], ['V'], ['I'], 'X1', ['S'], ['V', 'I'], 'X1', ['F'], ['Q'], 'X2', ['F']]\n",
            "Фрагменты последовательностей первой части, соответствующие этому паттерну ['CDPSFLLACVPCNVISSVIFQHRF', 'CDPTFLLFCVPCNVICSVIFQNRF', 'CNPTFILGAAPCNVICSVIFQNRF', 'CDPSLILNCAPCNVICSITFQNHF', 'CDPKFIIGCAPCNVICSIIFQNRF']\n",
            "Фрагменты последовательностей второй части, соответствующие этому паттерну ['SDMAQLFYYFALEAICYILFEKRI', 'MDVQQSLFNYTIEASNFALFGERL', 'LDIAPSVFRYTIEASTLVLYGERL', 'TDLSQELFKYALESVGSVLYGERL', 'GDISDDLFRFAFESITNVIFGERQ', 'GDIKEDLFHFAFESITNVMFGERL', 'VDVLTLMRHIMLDTSNMLFLGIP-', 'VNVLNLMRRIMLDTSNKLFLGVP-', 'LDMFEHISLMTLDSLQKCVFSF--', 'LDMFEHVSLMTLDSLQKCVFSF--', 'FDIFCDVGHMALNTLMKCTFGR-G', 'IEIFQHISLMTLDTVMKCAFSHNG', 'LEIFHYVSLMTLDTVMKCAFSHQG', 'FDIYPFITHCALDIICETAMGIQM', 'FSLYDWINLCTMDTICETAMGVSI', 'VDLKEIFGAYSMDVITGTSFGVNI', 'VTMKKVFGAYSMDVITSTSFGVNV', 'QSIHNLVQKFTMTNIAACVFGLN-', 'LEIKELMARFTTDVIGTCAFGIEC', 'LDMRDILARFNTDVIGSVAFGIEC', 'IDLPQFLQYYAFDVIGVITVGKSM', 'LDALNWFNYLAFDIIGDLAFGAPF', 'SKTAAWVTEGMYSFCYRVMFEAGY', 'NERTTGTIDVMVTQPEMTIFTASR', '--IVDDLSSPFPSLVIADLFGVP-', 'RDLSTLIFKSVINIICTICFNISF', 'IDISFPVFVAVTNVISLICFNTSY', 'IDLSEPLSLAVTNIISFICFNFSF', 'LDLSPELTRAVTNVVCSLCFSSSY', 'LDMAPELTRAVTNVVCSLCFNSSY', 'INPKAMLNKALCNVIASLIFARRF', 'FSPNTLLDKAVCNVIASLLFACRF', 'FSPMDLLNKAVSNVIASLTFGCRF', 'FDPTFVLSRSVSNIICSVLFGSRF', 'LDPTFLFQCITANIICSIVFGERF', 'IDPTFFLSRTVSNVISSVVFGSRF', 'IDPTIYLSKTVSNVISSIVFGERF', 'FNPGKFLIHAVANIICSIVFGDRF', 'FDPTFLIGCAPCNVIADILFRKHF', 'FDPTFILACAPCNVICSILFNDRF', 'IVVADMLTFAMANMIGQVMLSKRV', 'IEVTRFVFLASFNMLGNLILSKDL', 'IVIRRRLQLMMYNNMFRIMFDRRF', '-NDVVWALKNARFAVFYILVAMCF', '-EGVVWVLKNARFAVFCILLAMCF']\n",
            "\n",
            "\n",
            "Имена последовательностей первой части ['CP2G1_RABIT', 'CP2B1_RAT']\n",
            "Паттерн, отличающий первую часть последовательностей от второй [['H'], ['T'], ['E'], ['F'], 'X3', ['N'], ['L'], ['M', 'V'], ['I', 'L'], ['S', 'T'], 'X1', ['L'], 'X1', ['L'], ['F'], ['F'], ['A'], ['G'], ['T'], ['E'], ['T'], 'X1', ['S'], ['T', 'S'], ['T'], ['L'], ['R'], ['Y'], ['G'], ['F']]\n",
            "Фрагменты последовательностей первой части, соответствующие этому паттерну ['HTEFHHENLMISLLSLFFAGTETSSTTLRYGF', 'HTEFNLKNLVLTTLNLFFAGTETVSSTLRYGF']\n",
            "Фрагменты последовательностей второй части, соответствующие этому паттерну ['--QLSPREAMGSLPELLMAGVDTTSNTLTWAL', '-GSLPLDAIKANSMELTAGSVDTTAIPLVMTL', '-ADMTLDTIKANTIDLTAGSVDTTAFPLLMTL', '-DKLSIEDIKASVTELMAGGVDTTSITLLWTL', '-SKMSFEDIKANVTEMLAGGVDTTSMTLQWHL', '-EKMLLEDVKANITEMLAGGVNTTSMTLQWHL', '---LTKENVNQCILEMLIAAPDTMSVTLYFML', '---LTAENVNQCVLEMMIAAPDTLSVTLFIML', '--KLSDEDIRAEADTFMFEGHDTTASGLSWVL', '--ELSDEDIRAEADTFMFEGHDTTASGLSWIL', '--KLSDADLRAEVDTFMFEGHDTTTSGISWFL', '--SLSDKDLRAEVDTFMFEGHDTTASGVSWIF', '--SLSDEDLRAEVDTFMFEGHDTTASGISWVF', '--KMSDTDIREEVDTFMFEGHDTTSAGICWAL', '--PLSNLDIREEVDTFMFEGHDTTSSALMFFF', '--ALDDIEVVAQSIIILFAGYETTSSTLSFIM', '--ALSDMEITAQSIIFIFAGYEPTSSTLSFVL', 'ALELTDGVISAQMFIFYMAGYETSATTMTYLF', 'IEGMDIGELAAQVFVFYVAGFETSSSTMSYCL', '--GLTFNELAAQVFVFFLGGFETSSSTMGFAL', '--TVTSTETQQAVGLNIGAGSDTTANALSSIL', '--KLGRAELTAEALTQLIAGSDTTSNTSCAIL', '---FDDLEKAKTHLVVLWASQANTIPATFWSL', '-VKMTDQEIANLLIGVLMGGQHTSAATSAWIL', '-ETFTDEEIVHATMLLLGAGVETTSHAIANMF', 'S-VFSDKHILVTVGDIFGAGIETTSSVLNWIL', 'E-LLSDNHILTTIGDIFGAGVETTTSVVKWTL', 'K-LLSNRHMLATIGDIFGAGVETTTSVIKWIV', 'TVGLSEDHLLMTVGDIFGAGVETTSTVLKWAI', 'E--LTDDHLLMTVGDIFGAGVETTTTVLKWAV', 'ESSFNDENLRMVVVDLFTAGMVTTATTLTWAL', 'ESSFNDENLRVVVADLFMAGMVTTSTTLTWAL', 'ESSFNDENLRLVVADLFSAGMVTTSTTLAWAL', 'LSHFHMDTLLMTTHNLLFGGTKTVSTTLHHAF', '-SEFHMKNLVMTTLSLFFAGSETVSSTLRYGF', '-SYFTVESLTRTTLDLFLAGTGTTSTTLRYGL', 'ERLYTMDGITVTVADLFFAGTETTSTTLRYGL', 'KSEFHLENLAVCGSNLFTAGTETTSTTLRFGL', 'KSEFTMDNLIVTIGDLFGAGTETTSSTIKYGL', 'QSEFTMDNLITTIWDVFSAGTDTTSNTLKFAL', 'QSEFTIENLMTTLSDVFGAGTETTSTTLRYGL', 'QSEYSHENLTCSIMDLIGAGTETMSTTLRYAL', 'QMNYTQEHLAILVTNLFIGGTETSSLTLRFAL', '--RLSITNIKALLLNLFTAGTDTSSSVIEWAL', '-AKLSEHEIKIFVLEMFLAGTETTSSSVEWAL', '-GEINEDNVLYIVENINVAAIETTLWSIEWGI', 'KSGPTNAELVTLCSEFLNGGTDTTATALEWGI', 'NSTPTYPELVTLCSEFLNGGTDTTATAIEWAI']\n",
            "\n",
            "\n",
            "Имена последовательностей первой части ['CP2DE_BOVIN', 'CP2D4_RAT', 'CP2D1_RAT']\n",
            "Паттерн, отличающий первую часть последовательностей от второй [['P'], ['P'], ['R'], 'X1', ['L'], ['T'], ['D'], ['A'], ['F'], ['L']]\n",
            "Фрагменты последовательностей первой части, соответствующие этому паттерну ['PPRNLTDAFL', 'PPRDLTDAFL', 'PPRHLTDAFL']\n",
            "Фрагменты последовательностей второй части, соответствующие этому паттерну ['IQVSGYLHFL', 'QTYSGIVAEL', 'WHYSGIVAEL', 'GKYPGVLASL', 'HDYRGILYRL', 'RNYPGILYCL', 'DCMDFATDLI', 'EHMDFASQLI', 'KTLDFIDVLL', 'KTLDFIDVLL', 'RHLDFLDILL', 'RRLDFLDILL', 'RHLDFLDILL', 'KRLAFLDLLL', 'RKMAFLDILL', 'RRVDFLQLMI', 'HRVDFLQLMM', 'DMIDLIQELR', '-RNDFMNLLI', '-RNDFLDLVL', '-ENNFLAKLI', 'TRVDLLARLM', 'SLRMFLNDTL', '-DRDLIDSLM', 'IISDLIQAEV', 'SLSSLTDILI', 'SITNMLDTLM', 'SITNLLHILI', 'EQRDLLDALL', 'TVRDLMDALL', 'SPRDFIQCFL', 'APRDFIDTYL', 'NPRDFIDCFL', 'SPRNFIDSFL', 'CPRDFIDAFI', 'CPRDLTDCLL', 'NPRDYIDCFL', 'NPQDFIDYFL', 'NPRDFVDHFL', 'NPRDFIDCFL', 'NPRDFVDYYL', 'NPRDFIDYFL', 'GKPDFLDFIM', 'KGKDFLDVLL', 'KKMDNNQLKC', 'SDKTAASFSY', 'IDKTAASFSY']\n",
            "\n",
            "\n",
            "Имена последовательностей первой части ['CP4A2_RAT', 'CP4AA_RAT', 'CP4B1_HUMAN', 'CP4F1_RAT', 'CP4F3_HUMAN']\n",
            "Паттерн, отличающий первую часть последовательностей от второй [['G'], ['R'], 'X1', ['I', 'L'], ['P'], 'X1', ['G'], 'X4', ['I', 'M', 'L'], 'X1', ['V', 'I'], ['F', 'Y'], ['G', 'A'], 'X1', ['H'], 'X1', ['N']]\n",
            "Фрагменты последовательностей первой части, соответствующие этому паттерну ['GRVIPKGIICLISVFGTHHN', 'GRTIPKGIICLISIFGIHHN', 'GRSLPAGSLISMHIYALHRN', 'GRSLPKGIQVTLSIYGLHHN', 'GRSIPKGIRVTILIYGLHHN']\n",
            "Фрагменты последовательностей второй части, соответствующие этому паттерну ['-FLFPKNTQFVFCHYVVSRD', '-YHVPAGTLVLLYLYSMGRN', '-YHIPAGTLVKVLLYSLGRN', '-YHIPCGTLVQLGLYAMGRD', '-YMIPAKTLVQVAIYALGRE', '-YLIPAKTLVQVAIYAMGRD', '-YPVKKGTNIILNIGRMHR-', '-YPVKKGTNIILNIGRMHK-', '-YLVPAGCMMNLQIYHVHRN', '-KLIPAGTNIGISPLYLGRR', '-TFIPKGTIVMMPTYALHRD', '-VFMPKGSVVMIPSYALHRD', 'DITIKKGQTIIVSTWGIQND', 'KLVIEKGTQVIIPACAYHRD', 'KYVLPKGTLVFIPVLGIHYD', '-QFFPEGAEVGVNGWALYHN', '-HTFYPGDVVSVPSYTIHRS', 'SYNIRKDDIIALYPQLMHLD', 'SYVIPAGYHVLVSPGYTHLR', '-VKLKKGDVVIAWMSACNMD', '-FAIPKDTHVIINLWALHHD', '-FAVDKGTEVIINLWALHHN', '-LTIDKGTDVVVNLWALHHS', '-FTVRKGARIIINLWSLHHD', '-YSIPKGARVVINLWSVHHD', '-FVIPKGTTLIINLSSVLKD', '-FLIPKGTTLIINLSSVLKD', '-FHIPKGTTLITNLSSVLKD', '-FLIPKGTDVITLLNTVHYD', '-YLLPKNTEVYPILSSALHD', '-YLLPKGTDVFPLLGSVLKD', '-FFLPKGTDVFPILGSLMTD', '-YFIPKDTMIFPLLSPILQD', '-YLIPKGTVVVPTLDSVLYD', '-YVIPKGTTVLPMLSSVMLD', '-YHIPKGTSVMACLTSALHD', '-YLIPKGTDIIPSLTSVLYD', '-YLIPKGTAVITSLTSMLYN', '-YLIPKGTKVLTSLTSVLHD', '-YFIPKGTAVLTSLTSVLHA', '-YYIPKNTRLSVNIWAIGRD', '-YDVPKDTQVLVNAWAIGRD', '-FDIPAESKILVNAWWLANN', '-YDIPMDTNVEFFVHGISHD', '-YDIPTGVNVEIFLPGISDD']\n",
            "\n",
            "\n",
            "Имена последовательностей первой части ['CP4A2_RAT', 'CP4AA_RAT', 'CP4B1_HUMAN']\n",
            "Паттерн, отличающий первую часть последовательностей от второй [['K'], 'X3', ['R', 'K'], ['R'], 'X1', ['L'], ['D'], ['F'], ['L'], ['D'], ['I'], ['L'], ['L'], 'X1', ['A']]\n",
            "Фрагменты последовательностей первой части, соответствующие этому паттерну ['KIQNRRHLDFLDILLGA', 'KVKKKRRLDFLDILLLA', 'KARKKRHLDFLDILLFA']\n",
            "Фрагменты последовательностей второй части, соответствующие этому паттерну ['--PDGIQVSGYLHFLLA', '---SSQTYSGIVAELIS', '---HPWHYSGIVAELLM', '--NTHGKYPGVLASLLM', '--SVHHDYRGILYRLLG', '--TEFRNYPGILYCLLK', '--KLEDCMDFATDLIFA', '--KLDEHMDFASQLIFA', 'AKAKSKTLDFIDVLLLS', 'SKAKSKTLDFIDVLLLT', 'LLGKKKRLAFLDLLLEA', 'DVGAKRKMAFLDILLQS', '-DKQKRRVDFLQLMINS', '-SVQKHRVDFLQLMMNA', '---K-DMIDLIQELREK', '-ENFK-RNDFMNLLIEL', '-NNIR-RNDFLDLVLDL', '------ENNFLAKLILM', '---NNTRVDLLARLMEG', '----ISLRMFLNDTLST', '------DRDLIDSLMKN', '-----IISDLIQAEVDG', '-----SLSSLTDILIQA', '-----SITNMLDTLMQA', '-----SITNLLHILIQA', '-----EQRDLLDALLRA', '-----TVRDLMDALLQV', '---Q-PPRNLTDAFLAE', '----QPPRDLTDAFLAE', '---Q-PPRHLTDAFLDE', '-----SPRDFIQCFLTK', '-----APRDFIDTYLLR', '-----NPRDFIDCFLIK', '-----SPRNFIDSFLIR', '-----CPRDFIDAFINK', '-----CPRDLTDCLLVE', '-----NPRDYIDCFLSK', '-----NPQDFIDYFLIK', '-----NPRDFVDHFLIK', '-----NPRDFIDCFLIK', '-----NPRDFVDYYLIK', '-----NPRDFIDYFLIQ', '----KGKPDFLDFIMAN', '---TEKGKDFLDVLLEF', '-----KKMDNNQLKCAI', '---G-SDKTAASFSYLD', '---E-IDKTAASFSYLD']\n",
            "\n",
            "\n",
            "Имена последовательностей первой части ['CP4F1_RAT', 'CP4F3_HUMAN']\n",
            "Паттерн, отличающий первую часть последовательностей от второй [['L'], 'X2', ['K'], ['A'], ['K'], ['S'], ['K'], ['T'], ['L'], ['D'], ['F'], ['I'], ['D'], ['V'], ['L'], ['L'], ['L'], ['S', 'T']]\n",
            "Фрагменты последовательностей первой части, соответствующие этому паттерну ['LQAKAKSKTLDFIDVLLLS', 'LKSKAKSKTLDFIDVLLLT']\n",
            "Фрагменты последовательностей второй части, соответствующие этому паттерну ['----PDGIQVSGYLHFLLA', '-----SSQTYSGIVAELIS', '-----HPWHYSGIVAELLM', '----NTHGKYPGVLASLLM', '----SVHHDYRGILYRLLG', '----TEFRNYPGILYCLLK', '----KLEDCMDFATDLIFA', '----KLDEHMDFASQLIFA', '-KKIQNRRHLDFLDILLGA', '-EKVKKKRRLDFLDILLLA', '-QKARKKRHLDFLDILLFA', 'DELLGKKKRLAFLDLLLEA', 'DADVGAKRKMAFLDILLQS', '---DKQKRRVDFLQLMINS', '---SVQKHRVDFLQLMMNA', '-----K-DMIDLIQELREK', '---ENFK-RNDFMNLLIEL', '---NNIR-RNDFLDLVLDL', '--------ENNFLAKLILM', '-----NNTRVDLLARLMEG', '------ISLRMFLNDTLST', '--------DRDLIDSLMKN', '-------IISDLIQAEVDG', '-------SLSSLTDILIQA', '-------SITNMLDTLMQA', '-------SITNLLHILIQA', '-------EQRDLLDALLRA', '-------TVRDLMDALLQV', '-----Q-PPRNLTDAFLAE', '------QPPRDLTDAFLAE', '-----Q-PPRHLTDAFLDE', '-------SPRDFIQCFLTK', '-------APRDFIDTYLLR', '-------NPRDFIDCFLIK', '-------SPRNFIDSFLIR', '-------CPRDFIDAFINK', '-------CPRDLTDCLLVE', '-------NPRDYIDCFLSK', '-------NPQDFIDYFLIK', '-------NPRDFVDHFLIK', '-------NPRDFIDCFLIK', '-------NPRDFVDYYLIK', '-------NPRDFIDYFLIQ', '------KGKPDFLDFIMAN', '-----TEKGKDFLDVLLEF', '-------KKMDNNQLKCAI', '-----G-SDKTAASFSYLD', '-----E-IDKTAASFSYLD']\n",
            "\n",
            "\n",
            "Имена последовательностей первой части ['CP11A_BOVIN', 'CP11A_HUMAN', 'CP11A_ONCMY', 'C11B1_BOVIN', 'C11B2_MOUSE']\n",
            "Паттерн, отличающий первую часть последовательностей от второй [['Y'], 'X1', ['G'], ['I', 'V'], ['V', 'L'], 'X2', ['L']]\n",
            "Фрагменты последовательностей первой части, соответствующие этому паттерну ['YSGIVAEL', 'YSGIVAEL', 'YPGVLASL', 'YRGILYRL', 'YPGILYCL']\n",
            "Фрагменты последовательностей второй части, соответствующие этому паттерну ['VSGYLHFL', 'MDFATDLI', 'MDFASQLI', 'LDFIDVLL', 'LDFIDVLL', 'LDFLDILL', 'LDFLDILL', 'LDFLDILL', 'LAFLDLLL', 'MAFLDILL', 'VDFLQLMI', 'VDFLQLMM', 'IDLIQELR', 'NDFMNLLI', 'NDFLDLVL', 'NNFLAKLI', 'VDLLARLM', 'RMFLNDTL', 'RDLIDSLM', 'SDLIQAEV', 'SSLTDILI', 'TNMLDTLM', 'TNLLHILI', 'RDLLDALL', 'RDLMDALL', 'RNLTDAFL', 'RDLTDAFL', 'RHLTDAFL', 'RDFIQCFL', 'RDFIDTYL', 'RDFIDCFL', 'RNFIDSFL', 'RDFIDAFI', 'RDLTDCLL', 'RDYIDCFL', 'QDFIDYFL', 'RDFVDHFL', 'RDFIDCFL', 'RDFVDYYL', 'RDFIDYFL', 'PDFLDFIM', 'KDFLDVLL', 'MDNNQLKC', 'KTAASFSY', 'KTAASFSY']\n",
            "\n",
            "\n",
            "Имена последовательностей первой части ['C11B1_BOVIN', 'C11B2_MOUSE']\n",
            "Паттерн, отличающий первую часть последовательностей от второй [['N'], ['P'], ['Q'], ['K', 'R'], ['A'], ['M', 'I'], ['S', 'T'], ['D', 'E'], ['L'], ['P'], ['L'], ['L'], ['R'], ['A'], ['A'], ['L'], ['K']]\n",
            "Фрагменты последовательностей первой части, соответствующие этому паттерну ['NPQKAMSDLPLLRAALK', 'NPQRAITELPLLRAALK']\n",
            "Фрагменты последовательностей второй части, соответствующие этому паттерну ['PQHKDFAHMPLLKAVLK', 'DMLQMLKMIPLVKGALK', 'DMATMLQLVPLLKASIK', 'DISKMLQMVPLLKASIK', 'IKIEDIQNLKVVENFIN', 'VQSDDMPNLKIVENFIY', 'IEWDDLAQLPFLTMCIK', 'IEWDDLAQLPFLTMCIK', 'FQWDDLGKMTYLTMCIK', 'ITWDHLDQIPYTTMCIK', 'VTWDHLDQMPYTTMCIK', 'TTMRDLADMKYLERVIK', 'VSYELLNQLHYVDLCVK', 'ATYDTLVKMEYLDMVVN', 'PTYDTVMEMEYLDMVLN', 'ITYECLSEMTYLSKVFD', 'LTYESIKAMTYLNQVIS', 'ISYDALMNIPYLDQVLN', 'IRFQQSQSMPYLQAVIK', 'PTHAMVKDIPYLQWVIW', 'LSQAELNDLPVLDSIIK', 'LTYDLLQEMPLLNQTIK', '--------RELAPKAVE', 'PSFNDRTHLLMLEATIR', 'PTISDRNRLLLLEATIR', 'PTISDRNRLVLLEATIR', 'PQLSDRGSLPYLEATIR', 'PHLSDRPLLPYLEATIS', 'PEMTDQAHMPYTNAVIH', 'PEMADQARMPFTNAVIH', 'PEMGDQALMPFTVAVVH', 'PALKDRAAMPYTDAVIH', 'PTLDDRSKMPYTDAVIH', 'PSVDDRVKMPFTDAVIH', 'PQYEDHMKMPYTQAVIN', 'PCMADRSQLPYTDAVIH', 'PAIKDRQEMPYMDAVVH', 'PSMKDKMKLPYTDAVLH', 'PCMQDRNHMPYTDAVLH', 'PCMQDRTRMPYTDAVMH', 'PCMQDRSRMPYTDATVH', 'PCMQDRKHMPYTDAMIH', 'PCMLDRIHMPYTNAMIH', 'FIESDIPNLPYLRAICK', 'FEDSDIENLPYMQAVLK', 'ITEPDVQNLPYLQAVVK', 'VDENDIEKMPYLNAVVK', 'IDEKDIEKMPYLNAVVK']\n",
            "\n",
            "\n"
          ]
        }
      ]
    },
    {
      "cell_type": "code",
      "source": [
        "results(tree_6, align_6, threshold_1=10**(-10))"
      ],
      "metadata": {
        "colab": {
          "base_uri": "https://localhost:8080/"
        },
        "id": "V4f5AVzD59oV",
        "outputId": "e0cf4950-6470-485f-ca57-6331d88da822"
      },
      "execution_count": 97,
      "outputs": [
        {
          "output_type": "stream",
          "name": "stdout",
          "text": [
            "['A'] A\n",
            "Имена последовательностей первой части ['BthBR58ORF26925P', 'BthBORF5521P', 'Bth789ORF25840P', 'Bth672ORF17645P', 'Bth6552ORF28255P', 'Bth4Q7ORF9170P', 'Bth1002ORF4037P', 'CpeJJCORFDP', 'Rli107802ORFBP', 'PpaD2ORF3145P', 'MevORF338P', 'PspF4M1ORF9970P', 'Cha79ORF7175P', 'Nt.BstSEI', 'Hma5501ORF386P', 'TceNA10ORFFP', 'CspF32ORFDP', 'Csp104CI', 'CsaDORF2754P', 'UbaWWE31ORF770P', 'SgoGD1ORF1577P', 'KspDU53ORF425P', 'BbaNSORF2078P', 'Aar15340ORF16300P']\n",
            "Паттерн, отличающий вторую часть последовательностей от первой [['A'], ['I'], ['V'], ['N'], ['G'], ['I'], ['Y'], ['T'], ['A'], ['P'], ['T'], ['I'], ['H'], ['D'], ['R'], ['N'], ['T'], ['S'], ['A'], ['M'], ['K'], ['A']]\n",
            "Фрагменты последовательностей первой части, соответствующие этому паттерну ['SVVNGIFSAPAIHERNTSAMQA', 'KNNYCLFIAPKIHVDTVYHFWI', '----------------------', '----------------------', '----------------------', '----------------------', '----------------------', '----------------------', '----------------------', 'KDTYCIFIAPNIHEGCLAHFFN', 'TNFVNIFVAPKIHDNTYYNFFI', 'TNFVNIFIAPKIHDNTYYNFFI', 'TNFVNIFIAPKILDNTYYNFFI', 'ENIYCIFVAPRIHKDTYSQFWI', 'KESFCLFIAKNVSEGTLAYFYG', 'RPVFGLFIAERINPEVVSHLYS', 'KEMYCLFIAPKISEGTLAHYFN', 'RPVYGVFIAPTVNETVLNYLMT', 'KSNYCLFVAPKLHRDTINTFWF', 'INFVNIFVAPKIHDNTYYNFFI', 'KDTYCLFVAPTLHRDTVNTFWT', '-DVIGIFCAPQIHERNKIIMET', 'LEQRAMLIAPYIHWDVALFFKF']\n",
            "Фрагменты последовательностей второй части, соответствующие этому паттерну ['AIVNGIYTAPTIHDRNTSAMKA', 'AIVNGIYTAPTIHDRNTSAMKA', 'AIVNGIYTAPTIHDRNTSAMKA', 'AIVNGIYTAPTIHDRNTSAMKA', 'AIVNGIYTAPTIHDRNTSAMKA', 'AIVNGIYTAPTIHDRNTSAMKA', 'AIVNGIYTAPTIHDRNTSAMKA', 'AIVNGIYTAPTIHDRNTSAMKA', 'AIVNGIYTAPTIHDRNTSAMKA', 'AIVNGIYTAPTIHDRNTSAMKA', 'AIVNGIYTAPTIHDRNTSAMKA', 'AIVNGIYTAPTIHDRNTSAMKA', 'AIVNGIYTAPTIHDRNTSAMKA', 'AIVNGIYTAPTIHDRNTSAMKA', 'AIVNGIYTAPTIHDRNTSAMKA', 'AIVNGIYTAPTIHDRNTSAMKA', 'AIVNGIYTAPTIHDRNTSAMKA']\n",
            "\n",
            "\n",
            "Имена последовательностей первой части ['BthBR58ORF26925P', 'BthBORF5521P', 'Bth789ORF25840P', 'Bth672ORF17645P', 'Bth6552ORF28255P', 'Bth4Q7ORF9170P', 'Bth1002ORF4037P']\n",
            "Паттерн, отличающий первую часть последовательностей от второй [['F'], ['L'], ['L'], ['L'], ['M'], ['M'], ['N'], ['S'], ['L']]\n",
            "Фрагменты последовательностей первой части, соответствующие этому паттерну ['FLLLMMNSL', 'FLLLMMNSL', 'FLLLMMNSL', 'FLLLMMNSL', 'FLLLMMNSL', 'FLLLMMNSL', 'FLLLMMNSL']\n",
            "Фрагменты последовательностей второй части, соответствующие этому паттерну ['VFMIN-NEF', 'EC--FYQNY', 'IFIIN-DEF', 'IFIIN-DEF', 'IFIIN-DEF', 'IFIIN-DEF', 'IFIIN-DEF', 'IFIIN-DEF', 'IFIIN-DEF', 'IFIIN-GEF', 'IFIIN-DEF', 'IFIIN-DEF', 'IFIIN-DEF', 'IFIIN-DEF', 'IFIIN-DEF', 'IFIIN-DEF', 'IFIIN-DEF', 'IFIIN-DEF', 'IFIIN-DEF', 'EI--EFDDF', 'EF--FFKEF', 'EF--FFKEF', 'EF--FFKEF', 'EC--YYRTF', 'SC--YYNEF', 'LC--EYDSF', 'ES--EFADF', 'VA--EYETF', 'EC--YYESF', 'EF--FFKEF', 'EC--FYDAF', 'VFTIN-EIS', 'L----YENF']\n",
            "\n",
            "\n",
            "['Q'] Q\n",
            "Имена последовательностей первой части ['BthBR58ORF26925P', 'BthBORF5521P', 'Bth789ORF25840P', 'Bth672ORF17645P', 'Bth6552ORF28255P', 'Bth4Q7ORF9170P', 'Bth1002ORF4037P']\n",
            "Паттерн, отличающий вторую часть последовательностей от первой [['Q'], 'X3', ['E'], 'X3', ['V', 'I']]\n",
            "Фрагменты последовательностей первой части, соответствующие этому паттерну ['---------', '---------', '---------', '---------', '---------', '---------', '---------']\n",
            "Фрагменты последовательностей второй части, соответствующие этому паттерну ['QFSAEGSSV', 'QWIKETQPV', 'QFSAEGSSV', 'QFSAEGSSV', 'QFSAEGSSV', 'QFSAEGSSV', 'QFSAEGSSV', 'QFSAEGSSV', 'QFSAEGSSV', 'QFSAEGSSV', 'QFSAEGSSV', 'QFSAEGSSV', 'QFSAEGSSV', 'QFSAEGSSV', 'QFSAEGSSV', 'QFSAEGSSV', 'QFSAEGSSV', 'QFSAEGSSV', 'QFSAEGSSV', 'QFKMEGDSV', 'QWIQEGYPV', 'QWIQEGYPV', 'QWIQEGYPV', 'QWVQEGQPV', 'QYDMESEPV', 'QYETEGEPI', 'QYKMESESV', 'QYESESESI', 'QWHNEGQPV', 'QWIQEGYPV', 'QWMQEGQPV', 'QFNAEGASV', 'QLNSETTSV']\n",
            "\n",
            "\n",
            "['I', 'L', 'V', 'M'] I\n",
            "Имена последовательностей первой части ['BthBR58ORF26925P', 'BthBORF5521P', 'Bth789ORF25840P', 'Bth672ORF17645P', 'Bth6552ORF28255P', 'Bth4Q7ORF9170P', 'Bth1002ORF4037P']\n",
            "Паттерн, отличающий вторую часть последовательностей от первой [['I', 'L', 'V', 'M'], 'X2', ['A']]\n",
            "Фрагменты последовательностей первой части, соответствующие этому паттерну ['----', '----', '----', '----', '----', '----', '----']\n",
            "Фрагменты последовательностей второй части, соответствующие этому паттерну ['IFSA', 'LFIA', 'IYTA', 'IYTA', 'IYTA', 'IYTA', 'IYTA', 'IYTA', 'IYTA', 'IYTA', 'IYTA', 'IYTA', 'IYTA', 'IYTA', 'IYTA', 'IYTA', 'IYTA', 'IYTA', 'IYTA', 'IFIA', 'IFVA', 'IFIA', 'IFIA', 'IFVA', 'LFIA', 'LFIA', 'LFIA', 'VFIA', 'LFVA', 'IFVA', 'LFVA', 'IFCA', 'MLIA']\n",
            "\n",
            "\n",
            "['N'] N\n",
            "Имена последовательностей первой части ['CpeJJCORFDP', 'Rli107802ORFBP', 'PpaD2ORF3145P', 'MevORF338P', 'PspF4M1ORF9970P', 'Cha79ORF7175P', 'Nt.BstSEI', 'Hma5501ORF386P', 'TceNA10ORFFP', 'CspF32ORFDP', 'Csp104CI', 'CsaDORF2754P', 'UbaWWE31ORF770P', 'SgoGD1ORF1577P', 'KspDU53ORF425P', 'BbaNSORF2078P']\n",
            "Паттерн, отличающий вторую часть последовательностей от первой [['N'], ['R'], ['N'], ['Y'], ['D'], ['Q'], ['T'], ['R'], ['W'], ['N'], ['E'], ['Q']]\n",
            "Фрагменты последовательностей первой части, соответствующие этому паттерну ['-KLLEGQPFDKE', 'CQNFEGQQWSGN', '-SEFEGMNFDEN', '-SEFEGMNFDEN', '-SEFEGMNFDEN', '-KQLEGESFTKE', 'VNNFEGQNWNPK', '-KAFDGRVWDKN', 'TSSFSGKKWTGN', '-KQVEDLPWTRD', '-KEIENEEWNHK', '-SEFEGMNFDEN', '-KPLDGEVWNHD', 'ERNYSRSTWNPQ', '-DKIDGKVLNEK']\n",
            "Фрагменты последовательностей второй части, соответствующие этому паттерну ['NRNYDQTRWNEQ', 'NRNYDQTRWNEQ', 'NRNYDQTRWNEQ', 'NRNYDQTRWNEQ', 'NRNYDQTRWNEQ', 'NRNYDQTRWNEQ', 'NRNYDQTRWNEQ', 'NRNYDQTRWNEQ', 'NRNYDQTRWNEQ', 'NRNYDQTRWNEQ', 'NRNYDQTRWNEQ', 'NRNYDQTRWNEQ', 'NRNYDQTRWNEQ', 'NRNYDQTRWNEQ', 'NRNYDQTRWNEQ', 'NRNYDQTRWNEQ', 'NRNYDQTRWNEQ', 'NRNYDQTRWNEQ', 'NRNYDQTRWNEQ', 'NRNYDQTRWNEQ', 'NRNYDQTRWNEQ', 'NRNYDQTRWNEQ', 'NRNYDQTRWNEQ', 'NRNYDQTRWNEQ', 'NRNYDQTRWNEQ']\n",
            "\n",
            "\n",
            "['Q'] K\n",
            "['I'] G\n",
            "['L'] F\n",
            "Имена последовательностей первой части ['Rli107802ORFBP', 'PpaD2ORF3145P', 'MevORF338P', 'PspF4M1ORF9970P', 'Cha79ORF7175P', 'Nt.BstSEI', 'Hma5501ORF386P', 'TceNA10ORFFP', 'CspF32ORFDP', 'Csp104CI', 'CsaDORF2754P', 'UbaWWE31ORF770P', 'SgoGD1ORF1577P', 'KspDU53ORF425P', 'BbaNSORF2078P']\n",
            "Паттерн, отличающий первую часть последовательностей от второй [['T'], ['T', 'S'], 'X1', ['R'], 'X3', ['R', 'K'], 'X4', ['L', 'I']]\n",
            "Фрагменты последовательностей первой части, соответствующие этому паттерну ['TTVRNPERLRNFL', 'TSPRTIEKIIPEI', 'TTVRNPERLRGFL', 'TTVRNPERLRGFL', 'TTVRNPERLRGFL', 'TTVRNPERLRDFL', 'TSPRTPIKMIDEI', 'TSPRSPYKLQGEL', 'TSPRTLEKIIPEI', 'TSPRSPYKIKPEL', 'TTVRNPERLRNFL', 'TTVRNPERLRGFL', 'TTVRNPERIRNFL', 'TTIRNPQRNIDFL']\n",
            "Фрагменты последовательностей второй части, соответствующие этому паттерну ['KRGSLHQTICLIE', 'KRGSLHQTICLIE', 'KRGSLHQTICLIE', 'KRGSLHQTICLIE', 'KRGSLHQTICLIE', 'KRGSLHQTICLIE', 'KRGSLHQTICLIE', 'KRGSLHQTICLIE', 'KRGSLHQTICLIE', 'KRGSLHQTICLIE', 'KRGSLHQTICLIE', 'KRGSLHQTICLIE', 'KRGSLHQTICLIE', 'KRGSLHQTICLIE', 'KRGSLHQTICLIE', 'KRGSLHQTICLIE', 'KRGSLHQTICLIE', 'KRGSLHQTICLIE', 'KRGSLHQTICLIE', 'KRGSLHQTICLIE', 'KRGSLHQTICLIE', 'KRGSLHQTICLIE', 'KRGSLHQTICLIE', 'KRGSLHQTICLIE', 'KRGSLHQTICLIE', 'KRGSLHQTICLID']\n",
            "\n",
            "\n",
            "Имена последовательностей первой части ['Rli107802ORFBP', 'PpaD2ORF3145P', 'MevORF338P', 'PspF4M1ORF9970P', 'Cha79ORF7175P', 'Nt.BstSEI', 'Hma5501ORF386P', 'TceNA10ORFFP', 'CspF32ORFDP', 'Csp104CI', 'CsaDORF2754P', 'UbaWWE31ORF770P', 'SgoGD1ORF1577P', 'KspDU53ORF425P', 'BbaNSORF2078P']\n",
            "Паттерн, отличающий первую часть последовательностей от второй [['Y'], 'X1', ['D']]\n",
            "Фрагменты последовательностей первой части, соответствующие этому паттерну ['YGD', 'YAD', 'YGD', 'YGD', 'YGD', 'YGD', 'YAD', 'YAD', 'YAD', 'YAD', 'YAD', 'YGD', 'YGD', 'YVD']\n",
            "Фрагменты последовательностей второй части, соответствующие этому паттерну ['VKA', 'VKA', 'VKA', 'VKA', 'VKA', 'VKA', 'VKA', 'VKA', 'VKA', 'VKA', 'VKA', 'VKA', 'VKA', 'VKA', 'VKA', 'VKA', 'VKA', 'VKA', 'VKA', 'VKA', 'VKA', 'VKA', 'VKA', 'VKA', 'VKA', 'VQA']\n",
            "\n",
            "\n",
            "Имена последовательностей первой части ['Rli107802ORFBP', 'PpaD2ORF3145P', 'MevORF338P', 'PspF4M1ORF9970P', 'Cha79ORF7175P', 'Nt.BstSEI', 'Hma5501ORF386P', 'TceNA10ORFFP', 'CspF32ORFDP', 'Csp104CI', 'CsaDORF2754P', 'UbaWWE31ORF770P', 'SgoGD1ORF1577P', 'KspDU53ORF425P', 'BbaNSORF2078P']\n",
            "Паттерн, отличающий первую часть последовательностей от второй [['E'], 'X1', ['T']]\n",
            "Фрагменты последовательностей первой части, соответствующие этому паттерну ['EVT', 'EVT', 'EVT', 'EVT', 'EVT', 'EVT', 'EVT', 'EVT', 'EVT', 'EVT', 'EVT', 'EVT', 'EVT', 'EAT']\n",
            "Фрагменты последовательностей второй части, соответствующие этому паттерну ['LTT', 'LTT', 'LTT', 'LTT', 'LTT', 'LTT', 'LTT', 'LTT', 'LTT', 'LTT', '---', '---', '---', '---', '---', 'LTT', 'LTT', '---', '---', 'LTT', 'LTT', 'LTT', 'LTT', 'LTT', 'LTT', 'LTT']\n",
            "\n",
            "\n",
            "['R', 'K'] R\n",
            "Имена последовательностей первой части ['Rli107802ORFBP', 'PpaD2ORF3145P', 'MevORF338P', 'PspF4M1ORF9970P', 'Cha79ORF7175P', 'Nt.BstSEI', 'Hma5501ORF386P', 'TceNA10ORFFP', 'CspF32ORFDP', 'Csp104CI', 'CsaDORF2754P', 'UbaWWE31ORF770P', 'SgoGD1ORF1577P', 'KspDU53ORF425P', 'BbaNSORF2078P']\n",
            "Паттерн, отличающий вторую часть последовательностей от первой [['R', 'K'], 'X2', ['S'], 'X1', ['Q'], 'X1', ['I'], ['R'], ['T'], ['L'], 'X1', ['A'], ['S'], ['V', 'I'], ['P'], ['Q'], ['Y'], 'X1', ['G'], 'X1', ['L'], ['Y'], ['I'], 'X1', ['S', 'T'], 'X1', ['T']]\n",
            "Фрагменты последовательностей первой части, соответствующие этому паттерну ['D-PAMRGRQSVNP--LNKLGFCIARES-', 'EDPALAARDRMTRA-PKAFGFIDL----', 'D-PSMRGRQSVNP--LNKLGFAIAKKS-', 'D-PSMRGRQSVNP--LNKLGFAIAKKS-', 'D-PSMRGRQSVNP--LNKLGFAIAKKS-', 'D-PPMRGRQSVNP--LNKLGFAIAREG-', 'NNLSFAARDRINRA-PKALGFVNL----', 'EETAFSARDRLRG--PRLMGFICTPKRG', 'ADPAFAARDRITRA-PKAFGFVDL----', 'EEPTFSARDRTRA--PKILGLVEQVGRG', 'EGIAIRGRTSYKP--LEKIGLASI-VD-', 'D-PSMRGRQSVNP--LNKLGFAIAKKS-', 'GAGDMRGRQSFNP--IKKMGLAKI-DD-', 'NGFEGRAITHFKA--LHSQLLLIYDSQ-']\n",
            "Фрагменты последовательностей второй части, соответствующие этому паттерну ['RSPSNQSIRTLLASVPQYFGLLYIDSST', 'RSPSNQSIRTLLASIPQYLGFLYIDSNT', 'RSPSNQSIRTLLASIPQYLGFLYIDSNT', 'RSPSNQSIRTLLASIPQYLGFLYIDSST', 'RSPSNQSIRTLLASIPQYLGFLYIDSST', 'RSPSNQSIRTLLASIPQYLGFLYIDSNT', 'RSPSNQSIRTLLASIPQYLGFLYIDSST', 'RSPSNQSIRTLLASIPQYLGFLYIDSNT', 'RSPSNQSIRTLLASIPQYLGFLYIDSNT', 'RSPSNQSIRTLLASIPQYLGFLYIDSNT', 'RSPSNQSIRTLLASIPQYLGFLYIDSST', 'RSPSNQSIRTLLASIPQYLGFLYIDSST', 'RSPSNQSIRTLLASIPQYLGFLYIDSST', 'RSPSNQSIRTLLASIPQYLGFLYIDSST', 'RSPSNQSIRTLLASIPQYLGFLYIDSST', 'RSPSNQSIRTLLASIPQYLGFLYIDSST', 'RSPSNQSIRTLLASIPQYLGFLYIDSST', 'RSPSNQSIRTLLASIPQYLGFLYIDSST', 'RSPSNQSIRTLLASIPQYLGFLYIDSST', 'RSPSNQSIRTLLASIPQYLGFLYIDSST', 'RSPSNQSIRTLLASIPQYLGFLYIDSST', 'RSPSNQSIRTLLASIPQYLGFLYIDSST', 'RSPSNQSIRTLLASIPQYLGFLYIDSST', 'RSPSNQSIRTLLASIPQYLGFLYIDSST', 'RSPSNQSIRTLLASIPQYLGFLYIDSST', 'KNISPQAIRTLTASIPQYLGFLYINTST']\n",
            "\n",
            "\n",
            "['P'] P\n",
            "Имена последовательностей первой части ['Rli107802ORFBP', 'PpaD2ORF3145P', 'MevORF338P', 'PspF4M1ORF9970P', 'Cha79ORF7175P', 'Nt.BstSEI', 'Hma5501ORF386P', 'TceNA10ORFFP', 'CspF32ORFDP', 'Csp104CI', 'CsaDORF2754P', 'UbaWWE31ORF770P', 'SgoGD1ORF1577P', 'KspDU53ORF425P', 'BbaNSORF2078P']\n",
            "Паттерн, отличающий вторую часть последовательностей от первой [['P'], ['N'], ['T']]\n",
            "Фрагменты последовательностей первой части, соответствующие этому паттерну ['IGN', 'QPE', 'LGK', 'LGK', 'LGK', 'YGP', 'KP-', 'DGK', 'KPE', '-AT', 'R-K', 'LGK', 'QGR', 'SKV']\n",
            "Фрагменты последовательностей второй части, соответствующие этому паттерну ['PNT', 'PNT', 'PNT', 'PNT', 'PNT', 'PNT', 'PNT', 'PNT', 'PNT', 'PNT', 'PNT', 'PNT', 'PNT', 'PNT', 'PNT', 'PNT', 'PNT', 'PNT', 'PNT', 'PNT', 'PNT', 'PNT', 'PNT', 'PNT', 'PNT', 'PNT']\n",
            "\n",
            "\n",
            "['L'] L\n",
            "Имена последовательностей первой части ['Rli107802ORFBP', 'PpaD2ORF3145P', 'MevORF338P', 'PspF4M1ORF9970P', 'Cha79ORF7175P', 'Nt.BstSEI', 'Hma5501ORF386P', 'TceNA10ORFFP', 'CspF32ORFDP', 'Csp104CI', 'CsaDORF2754P', 'UbaWWE31ORF770P', 'SgoGD1ORF1577P', 'KspDU53ORF425P', 'BbaNSORF2078P']\n",
            "Паттерн, отличающий вторую часть последовательностей от первой [['L'], ['I'], 'X2', ['S'], 'X1', ['I', 'V'], 'X1', ['L'], 'X1', ['Q'], 'X1', ['E'], ['K'], ['L'], ['Q'], ['I'], ['T'], ['N'], ['P'], ['I', 'V'], ['I'], 'X1', ['K']]\n",
            "Фрагменты последовательностей первой части, соответствующие этому паттерну ['--DISYIFLKSLLKLQFPNPWSSD', '--RLDELFTRQLLKFQLPSPYHTQ', '--DVSEILFKSLLKLQYPNPFSSD', '--DVSEILFKSLLKLQYPNPFSSD', '--DVSEILFKSLLKLQYPNPFSSD', '--DIGFVFLKSLLKLQFPNPWSRD', '--RINEIFIRQMMKFQLPSPYHTD', '--EQELILQRQIAKVQYRSHLHNN', '--REDEIFTRQMLKFQLPSPYHTQ', '--QETAFFLNQIAKVQFPSAQHSA', '--DLGEMFFKSFLKWQYPNPVDRD', '--DISEILFKSLLKLQYPNPFSSD', '--DLGEMFFKSFLKWQLPNPLSRD', '--DVQNIYTKILLGIHFGSPIRKE']\n",
            "Фрагменты последовательностей второй части, соответствующие этому паттерну ['LIETSPIILEQFEKLQITNPIILK', 'LIETSSVFLEQFEKLQITNPVILK', 'LIETSSVFLEQFEKLQITNPIILK', 'LIETSSVFLEQFEKLQITNPVILK', 'LIETSSVFLEQFEKLQITNPVILK', 'LIETSSVFLEQFEKLQITNPVILK', 'LIETSSVFLEQFEKLQITNPVILK', 'LIETSSVFLEQFEKLQITNPVILK', 'LIETSSVFLEQFEKLQITNPVILK', 'LIETSSVFLEQFEKLQITNPVILK', 'LIETSSVFLEQFEKLQITNPVILK', 'LIETSSVFLEQFEKLQITNPVILK', 'LIETSSVFLEQFEKLQITNPVILK', 'LIETSSVFLEQFEKLQITNPVILK', 'LIETSSVFLEQFEKLQITNPVILK', 'LIETSSVFLEQFEKLQITNPVILK', 'LIETSSVFLEQFEKLQITNPVILK', 'LIETSSVFLEQFEKLQITNPVILK', 'LIETSSVFLEQFEKLQITNPVILK', 'LIETSSVFLEQFEKLQITNPVILK', 'LIETSSVFLEQFEKLQITNPVILK', 'LIETSSVFLEQFEKLQITNPVILK', 'LIETSSVFLEQFEKLQITNPVILK', 'LIETSSVFLEQFEKLQITNPVILK', 'LIETSSVFLEQFEKLQITNPVILK', 'LITQSSIVLKQMEKLQITNPIIKK']\n",
            "\n",
            "\n",
            "['C'] C\n",
            "Имена последовательностей первой части ['Rli107802ORFBP', 'PpaD2ORF3145P', 'MevORF338P', 'PspF4M1ORF9970P', 'Cha79ORF7175P', 'Nt.BstSEI', 'Hma5501ORF386P', 'TceNA10ORFFP', 'CspF32ORFDP', 'Csp104CI', 'CsaDORF2754P', 'UbaWWE31ORF770P', 'SgoGD1ORF1577P', 'KspDU53ORF425P', 'BbaNSORF2078P']\n",
            "Паттерн, отличающий вторую часть последовательностей от первой [['C'], 'X1', ['N'], ['I'], ['L'], ['V'], ['F'], ['P'], ['F'], ['R'], ['V', 'M']]\n",
            "Фрагменты последовательностей первой части, соответствующие этому паттерну ['NDGFDVQPLIA', 'TVNFAVRPYLE', 'RDGFDIIPFIV', 'RDGFDIIPFIV', 'RDGFDIIPFIV', 'KHGFNITPFIA', 'SGRFYVRPYLE', '-EDMNIRPLML', 'SLEFSVKPYLE', '-RQMDCRPLTV', 'AKIYNLKPFIL', 'RDGFDIIPFIV', 'EDGYDIKPFIA', 'ARVF-----LN']\n",
            "Фрагменты последовательностей второй части, соответствующие этому паттерну ['CENILVFPFRV', 'CENILVFPFRV', 'CENILVFPFRV', 'CENILVFPFRV', 'CENILVFPFRV', 'CENILVFPFRV', 'CENILVFPFRV', 'CENILVFPFRV', 'CENILVFPFRV', 'CENILVFPFRV', 'CENILVFPFRV', 'CENILVFPFRV', 'CENILVFPFRV', 'CENILVFPFRV', 'CENILVFPFRV', 'CENILVFPFRV', 'CENILVFPFRV', 'CENILVFPFRV', 'CENILVFPFRV', 'CENILVFPFRV', 'CENILVFPFRV', 'CENILVFPFRV', 'CENILVFPFRV', 'CENILVFPFRV', 'CENILVFPFRV', 'CSNILVFPFRM']\n",
            "\n",
            "\n",
            "['D'] D\n",
            "Имена последовательностей первой части ['Rli107802ORFBP', 'PpaD2ORF3145P', 'MevORF338P', 'PspF4M1ORF9970P', 'Cha79ORF7175P', 'Nt.BstSEI', 'Hma5501ORF386P', 'TceNA10ORFFP', 'CspF32ORFDP', 'Csp104CI', 'CsaDORF2754P', 'UbaWWE31ORF770P', 'SgoGD1ORF1577P', 'KspDU53ORF425P', 'BbaNSORF2078P']\n",
            "Паттерн, отличающий вторую часть последовательностей от первой [['D'], ['R'], ['E']]\n",
            "Фрагменты последовательностей первой части, соответствующие этому паттерну ['TQT', 'SKT', 'SKR', 'SKR', 'SKR', 'SKE', 'TKH', 'SKE', 'SKT', 'TKE', 'SKT', 'SKR', 'SQA', 'LRH']\n",
            "Фрагменты последовательностей второй части, соответствующие этому паттерну ['DRE', 'DRE', 'DRE', 'DRE', 'DRE', 'DRE', 'DRE', 'DRE', 'DRE', 'DRE', 'DRE', 'DRE', 'DRE', 'DRE', 'DRE', 'DRE', 'DRE', 'DRE', 'DRE', 'DRE', 'DRE', 'DRE', 'DRE', 'DRE', 'DRE', 'DRE']\n",
            "\n",
            "\n",
            "['I'] G\n",
            "['S'] S\n",
            "Имена последовательностей первой части ['Rli107802ORFBP', 'PpaD2ORF3145P', 'MevORF338P', 'PspF4M1ORF9970P', 'Cha79ORF7175P', 'Nt.BstSEI', 'Hma5501ORF386P', 'TceNA10ORFFP', 'CspF32ORFDP', 'Csp104CI', 'CsaDORF2754P', 'UbaWWE31ORF770P', 'SgoGD1ORF1577P', 'KspDU53ORF425P', 'BbaNSORF2078P']\n",
            "Паттерн, отличающий вторую часть последовательностей от первой [['S'], 'X2', ['K']]\n",
            "Фрагменты последовательностей первой части, соответствующие этому паттерну ['DYKN', 'VKAK', 'KKAH', 'KKAH', 'KKAH', 'IKKK', 'KIDD', 'NEAK', 'VKSK', 'AKSI', '-KIK', 'KKAH', '-EDH', '----']\n",
            "Фрагменты последовательностей второй части, соответствующие этому паттерну ['SASK', 'SAAK', 'SAAK', 'SAAK', 'SAAK', 'SAAK', 'SAAK', 'SAAK', 'SAAK', 'SAAK', 'SAAK', 'SAAK', 'SAAK', 'SAAK', 'SAAK', 'SAAK', 'SAAK', 'SAAK', 'SAAK', 'SAAK', 'SAAK', 'SAAK', 'SAAK', 'SAAK', 'SAAK', 'SSSK']\n",
            "\n",
            "\n",
            "['Y'] Y\n",
            "Имена последовательностей первой части ['Rli107802ORFBP', 'PpaD2ORF3145P', 'MevORF338P', 'PspF4M1ORF9970P', 'Cha79ORF7175P', 'Nt.BstSEI', 'Hma5501ORF386P', 'TceNA10ORFFP', 'CspF32ORFDP', 'Csp104CI', 'CsaDORF2754P', 'UbaWWE31ORF770P', 'SgoGD1ORF1577P', 'KspDU53ORF425P', 'BbaNSORF2078P']\n",
            "Паттерн, отличающий вторую часть последовательностей от первой [['Y'], ['L'], 'X1', ['I'], ['I', 'L'], 'X2', ['I']]\n",
            "Фрагменты последовательностей первой части, соответствующие этому паттерну ['EIQNIINS', 'DYKELPDI', 'KLDEHIKI', 'KLDEHIKI', 'KLDEHIKI', 'KIKEIISI', 'VTDDFNDI', '--SSLGDI', 'DYKELPDI', '--SVTPEI', 'KIDETIDA', 'KLDEHIKI', 'KVREYIDR', '------SS']\n",
            "Фрагменты последовательностей второй части, соответствующие этому паттерну ['YLGIIENI', 'YLGIIGDI', 'YLGIIGDI', 'YLGIIGDI', 'YLGIIGDI', 'YLGIIGDI', 'YLGIIGDI', 'YLGIIGDI', 'YLGIIGDI', 'YLGIIGDI', 'YLGIIGDI', 'YLGIIGDI', 'YLGIIGDI', 'YLGIIGDI', 'YLGIIGDI', 'YLGIIGDI', 'YLGIIGDI', 'YLGIIGDI', 'YLGIIGDI', 'YLGIIGDI', 'YLGIIGDI', 'YLGIIGDI', 'YLGIIGDI', 'YLGIIGDI', 'YLGIIGDI', 'YLSILCKI']\n",
            "\n",
            "\n",
            "['D'] D\n",
            "Имена последовательностей первой части ['Rli107802ORFBP', 'PpaD2ORF3145P', 'MevORF338P', 'PspF4M1ORF9970P', 'Cha79ORF7175P', 'Nt.BstSEI', 'Hma5501ORF386P', 'TceNA10ORFFP', 'CspF32ORFDP', 'Csp104CI', 'CsaDORF2754P', 'UbaWWE31ORF770P', 'SgoGD1ORF1577P', 'KspDU53ORF425P', 'BbaNSORF2078P']\n",
            "Паттерн, отличающий вторую часть последовательностей от первой [['D'], 'X6', ['L'], ['R', 'K'], ['G'], ['A'], ['Y'], ['Y'], ['E'], ['F', 'Y'], ['L'], ['Y', 'F'], ['Y', 'F']]\n",
            "Фрагменты последовательностей первой части, соответствующие этому паттерну ['---EIKKYEPEKFEKLIT', 'IKKKDIPDPPLFLEWNVW', '---YWKELEPADLEQIIF', '---YWKELEPADLEQIIF', '---YWKELEPADLEQIIF', '---LLRKLDPEGFEKILT', 'IIQGEVADPPLIFEWNTW', 'SRDKDIVDRPLMYEWNTW', 'IKKKEVPDAPLFLEWNVW', 'ARDSGMLDKPLFFEWNTW', '---NLDLKPSIALEKYIT', '---YWKELEPADLEQIIF', '---QSKEKKSIELEHLAT', '-----NIPEPLRLEYLLA']\n",
            "Фрагменты последовательностей второй части, соответствующие этому паттерну ['DLIHNKNLRGAYYEFLYY', 'DLTNNKNLRGAYYEYLFY', 'DLTNNKNLRGAYYEYLFY', 'DLTNNKNLRGAYYEYLFY', 'DLTNNKNLRGAYYEYLFY', 'DLTNNKNLRGAYYEYLFY', 'DLTNNKNLRGAYYEYLFY', 'DLTNNKNLRGAYYEYLFY', 'DLTNNKNLRGAYYEYLFY', 'DLTNNKNLRGAYYEYLFY', 'DLTNNKNLRGAYYEYLFY', 'DLTNNKNLRGAYYEYLFY', 'DLTNNKNLRGAYYEYLFY', 'DLTNNKNLRGAYYEYLFY', 'DLTNNKNLRGAYYEYLFY', 'DLTNNKNLRGAYYEYLFY', 'DLTNNKNLRGAYYEYLFY', 'DLTNNKNLRGAYYEYLFY', 'DLTNNKNLRGAYYEYLFY', 'DLTNNKNLRGAYYEYLFY', 'DLTNNKNLRGAYYEYLFY', 'DLTNNKNLRGAYYEYLFY', 'DLTNNKNLRGAYYEYLFY', 'DLTNNKNLRGAYYEYLFY', 'DLTNNKNLRGAYYEYLFY', 'DRSQYAVLKGAYYEYLFF']\n",
            "\n",
            "\n",
            "Имена последовательностей первой части ['Rli107802ORFBP', 'PpaD2ORF3145P', 'MevORF338P', 'PspF4M1ORF9970P', 'Cha79ORF7175P', 'Nt.BstSEI']\n",
            "Паттерн, отличающий первую часть последовательностей от второй [['I', 'V', 'M'], 'X1', ['D'], 'X1', ['P'], ['L']]\n",
            "Фрагменты последовательностей первой части, соответствующие этому паттерну ['IPDPPL', 'VADPPL', 'IVDRPL', 'VPDAPL', 'MLDKPL']\n",
            "Фрагменты последовательностей второй части, соответствующие этому паттерну ['KNLRGA', 'KKYEPE', 'KNLRGA', 'KNLRGA', 'KNLRGA', 'KNLRGA', 'KNLRGA', 'KNLRGA', 'KNLRGA', 'KNLRGA', 'KNLRGA', 'KNLRGA', 'KNLRGA', 'KNLRGA', 'KNLRGA', 'KNLRGA', 'KNLRGA', 'KNLRGA', 'KNLRGA', 'KNLRGA', 'KNLRGA', 'KNLRGA', 'KNLRGA', 'KNLRGA', 'KNLRGA', 'KNLRGA', 'KELEPA', 'KELEPA', 'KELEPA', 'RKLDPE', 'DLKPSI', 'KELEPA', 'KEKKSI', 'AVLKGA', 'NIPEPL']\n",
            "\n",
            "\n",
            "Имена последовательностей первой части ['Rli107802ORFBP', 'PpaD2ORF3145P']\n",
            "Паттерн, отличающий первую часть последовательностей от второй [['V', 'I'], ['S'], 'X1', ['E'], ['E'], 'X2', ['F'], ['S'], ['A'], ['R'], ['D'], ['R'], 'X1', ['R']]\n",
            "Фрагменты последовательностей первой части, соответствующие этому паттерну ['VSKEETAFSARDRLR', 'ISSEEPTFSARDRTR']\n",
            "Фрагменты последовательностей второй части, соответствующие этому паттерну ['---RSPSNQSIRTLL', 'EYED-PAMRGRQSVN', '---RSPSNQSIRTLL', '---RSPSNQSIRTLL', '---RSPSNQSIRTLL', '---RSPSNQSIRTLL', '---RSPSNQSIRTLL', '---RSPSNQSIRTLL', '---RSPSNQSIRTLL', '---RSPSNQSIRTLL', '---RSPSNQSIRTLL', '---RSPSNQSIRTLL', '---RSPSNQSIRTLL', '---RSPSNQSIRTLL', '---RSPSNQSIRTLL', '---RSPSNQSIRTLL', '---RSPSNQSIRTLL', '---RSPSNQSIRTLL', '---RSPSNQSIRTLL', '---RSPSNQSIRTLL', '---RSPSNQSIRTLL', '---RSPSNQSIRTLL', '---RSPSNQSIRTLL', '---RSPSNQSIRTLL', '---RSPSNQSIRTLL', '---RSPSNQSIRTLL', 'KFPEDPALAARDRMT', 'KYKD-PSMRGRQSVN', 'KYKD-PSMRGRQSVN', 'KYKD-PSMRGRQSVN', 'NYED-PPMRGRQSVN', '-IKNNLSFAARDRIN', 'SYPADPAFAARDRIT', 'NYPEGIAIRGRTSYK', 'NYED-PSMRGRQSVN', 'NYVGAGDMRGRQSFN', '---KNISPQAIRTLT', 'KVQNGFEGRAITHFK']\n",
            "\n",
            "\n",
            "Имена последовательностей первой части ['MevORF338P', 'PspF4M1ORF9970P', 'Cha79ORF7175P', 'Nt.BstSEI']\n",
            "Паттерн, отличающий первую часть последовательностей от второй [['M'], 'X2', ['L', 'I'], 'X3', ['K'], ['L'], ['F'], 'X1', ['F'], ['T'], ['S'], ['P'], ['R'], ['T'], 'X2', ['K'], ['I', 'M'], ['I'], 'X1', ['E'], ['I'], 'X1', ['I', 'L'], ['L'], 'X3', ['F'], 'X1']\n",
            "Фрагменты последовательностей первой части, соответствующие этому паттерну ['MANLSKTKALFGFTSPRTIEKIIPEIQILCQNF', 'MTSIGNTKTLFFFTSPRTPIKMIDEIELLVNNF', 'MGSLSKVKALFGFTSPRTLEKIIPEIELLTSSF']\n",
            "Фрагменты последовательностей второй части, соответствующие этому паттерну ['QKNRS-KEIWLVPKRGSLHQTICLIESLINRNY', '------MKLWSISTTVRNPERLRNFLQVL-KLL', 'QKNRS-KEVWLVPKRGSLHQTICLIESLINRNY', 'QKNRS-KEVWLVPKRGSLHQTICLIESLINRNY', 'QKNRS-KEVWLVPKRGSLHQTICLIESLINRNY', 'QKNRS-KEVWLVPKRGSLHQTICLIESLINRNY', 'QKNRS-KEVWLVPKRGSLHQTICLIESLINRNY', 'QKNRS-KEVWLVPKRGSLHQTICLIESLINRNY', 'QKNRS-KEVWLVPKRGSLHQTICLIESLINRNY', 'QKNRS-KEVWLVPKRGSLHQTICLIESLINRNY', 'QKNRS-KEVWLVPKRGSLHQTICLIESLINRNY', 'QKNRS-KEVWLVPKRGSLHQTICLIESLINRNY', 'QKNRS-KEVWLVPKRGSLHQTICLIESLINRNY', 'QKNRS-KEVWLVPKRGSLHQTICLIESLINRNY', 'QKNRS-KEVWLVPKRGSLHQTICLIESLINRNY', 'QKNRS-KEVWLVPKRGSLHQTICLIESLINRNY', 'QKNRS-KEVWLVPKRGSLHQTICLIESLINRNY', 'QKNRS-KEVWLVPKRGSLHQTICLIESLINRNY', 'QKNRS-KEVWLVPKRGSLHQTICLIESLINRNY', 'QKNRS-KEVWLVPKRGSLHQTICLIESLINRNY', 'QKNRS-KEVWLVPKRGSLHQTICLIESLINRNY', 'QKNRS-KEVWLVPKRGSLHQTICLIESLINRNY', 'QKNRS-KEVWLVPKRGSLHQTICLIESLINRNY', 'QKNRS-KEVWLVPKRGSLHQTICLIESLINRNY', 'QKNRS-KEVWLVPKRGSLHQTICLIESLINRNY', 'QKNRS-KEVWLVPKRGSLHQTICLIESLINRNY', '-----MRKPWSISTTVRNPERLRGFLQVL-SEF', '-----MRKPWSISTTVRNPERLRGFLQVL-SEF', '-----MRKPWSISTTVRNPERLRGFLQVL-SEF', '-----MRKPWSISTTVRNPERLRDFLKVL-KQL', 'ESKTSRSRAWNFPTSPRSPYKLQGELQLL-KAF', 'SEETALTRAWFFPTSPRSPYKIKPELELL-KQV', '-----MRKAWSISTTVRNPERLRNFLITL-KEI', '-----MRKPWSISTTVRNPERLRGFLQVL-SEF', '-----MKKIWSISTTVRNPERIRNFLVAL-KPL', 'QGNRS-KEIWLIPKRGSLHQTICLIDGIIERNY', '-MRKNTFNIFSFDTTIRNPQRNIDFLQII-DKI']\n",
            "\n",
            "\n",
            "Имена последовательностей первой части ['MevORF338P', 'PspF4M1ORF9970P', 'Cha79ORF7175P', 'Nt.BstSEI']\n",
            "Паттерн, отличающий первую часть последовательностей от второй [['A'], ['A'], ['R'], ['D'], ['R'], ['M', 'I'], 'X1', ['R']]\n",
            "Фрагменты последовательностей первой части, соответствующие этому паттерну ['AARDRMTR', 'AARDRINR', 'AARDRITR']\n",
            "Фрагменты последовательностей второй части, соответствующие этому паттерну ['QSIRTLLA', 'RGRQSVNP', 'QSIRTLLA', 'QSIRTLLA', 'QSIRTLLA', 'QSIRTLLA', 'QSIRTLLA', 'QSIRTLLA', 'QSIRTLLA', 'QSIRTLLA', 'QSIRTLLA', 'QSIRTLLA', 'QSIRTLLA', 'QSIRTLLA', 'QSIRTLLA', 'QSIRTLLA', 'QSIRTLLA', 'QSIRTLLA', 'QSIRTLLA', 'QSIRTLLA', 'QSIRTLLA', 'QSIRTLLA', 'QSIRTLLA', 'QSIRTLLA', 'QSIRTLLA', 'QSIRTLLA', 'RGRQSVNP', 'RGRQSVNP', 'RGRQSVNP', 'RGRQSVNP', 'SARDRLRG', 'SARDRTRA', 'RGRTSYKP', 'RGRQSVNP', 'RGRQSFNP', 'QAIRTLTA', 'RAITHFKA']\n",
            "\n",
            "\n",
            "Имена последовательностей первой части ['MevORF338P', 'PspF4M1ORF9970P', 'Cha79ORF7175P', 'Nt.BstSEI']\n",
            "Паттерн, отличающий первую часть последовательностей от второй [['R'], 'X2', ['E'], ['L', 'I'], ['F'], 'X1', ['R'], ['Q'], ['L', 'M'], ['L', 'M'], ['K'], ['F'], ['Q'], ['L'], ['P'], ['S'], ['P'], ['Y'], ['H']]\n",
            "Фрагменты последовательностей первой части, соответствующие этому паттерну ['RLDELFTRQLLKFQLPSPYH', 'RINEIFIRQMMKFQLPSPYH', 'REDEIFTRQMLKFQLPSPYH']\n",
            "Фрагменты последовательностей второй части, соответствующие этому паттерну ['ETSPIILEQFEKLQITNPII', 'DISYIFLKSLLKLQFPNPWS', 'ETSSVFLEQFEKLQITNPVI', 'ETSSVFLEQFEKLQITNPII', 'ETSSVFLEQFEKLQITNPVI', 'ETSSVFLEQFEKLQITNPVI', 'ETSSVFLEQFEKLQITNPVI', 'ETSSVFLEQFEKLQITNPVI', 'ETSSVFLEQFEKLQITNPVI', 'ETSSVFLEQFEKLQITNPVI', 'ETSSVFLEQFEKLQITNPVI', 'ETSSVFLEQFEKLQITNPVI', 'ETSSVFLEQFEKLQITNPVI', 'ETSSVFLEQFEKLQITNPVI', 'ETSSVFLEQFEKLQITNPVI', 'ETSSVFLEQFEKLQITNPVI', 'ETSSVFLEQFEKLQITNPVI', 'ETSSVFLEQFEKLQITNPVI', 'ETSSVFLEQFEKLQITNPVI', 'ETSSVFLEQFEKLQITNPVI', 'ETSSVFLEQFEKLQITNPVI', 'ETSSVFLEQFEKLQITNPVI', 'ETSSVFLEQFEKLQITNPVI', 'ETSSVFLEQFEKLQITNPVI', 'ETSSVFLEQFEKLQITNPVI', 'ETSSVFLEQFEKLQITNPVI', 'DVSEILFKSLLKLQYPNPFS', 'DVSEILFKSLLKLQYPNPFS', 'DVSEILFKSLLKLQYPNPFS', 'DIGFVFLKSLLKLQFPNPWS', 'EQELILQRQIAKVQYRSHLH', 'QETAFFLNQIAKVQFPSAQH', 'DLGEMFFKSFLKWQYPNPVD', 'DISEILFKSLLKLQYPNPFS', 'DLGEMFFKSFLKWQLPNPLS', 'TQSSIVLKQMEKLQITNPII', 'DVQNIYTKILLGIHFGSPIR']\n",
            "\n",
            "\n",
            "Имена последовательностей первой части ['MevORF338P', 'PspF4M1ORF9970P', 'Cha79ORF7175P', 'Nt.BstSEI']\n",
            "Паттерн, отличающий первую часть последовательностей от второй [['T', 'S'], 'X2', ['F'], 'X1', ['V'], ['R', 'K'], ['P'], ['Y'], ['L'], ['E'], ['L', 'I'], ['I', 'L']]\n",
            "Фрагменты последовательностей первой части, соответствующие этому паттерну ['TVNFAVRPYLELI', 'SGRFYVRPYLEIL', 'SLEFSVKPYLELL']\n",
            "Фрагменты последовательностей второй части, соответствующие этому паттерну ['CENILVFPFRVVL', 'NDGFDVQPLIATM', 'CENILVFPFRVIL', 'CENILVFPFRVIL', 'CENILVFPFRVIL', 'CENILVFPFRVIL', 'CENILVFPFRVIL', 'CENILVFPFRVIL', 'CENILVFPFRVIL', 'CENILVFPFRVIL', 'CENILVFPFRVIL', 'CENILVFPFRVIL', 'CENILVFPFRVIL', 'CENILVFPFRVIL', 'CENILVFPFRVIL', 'CENILVFPFRVIL', 'CENILVFPFRVIL', 'CENILVFPFRVIL', 'CENILVFPFRVIL', 'CENILVFPFRVIL', 'CENILVFPFRVIL', 'CENILVFPFRVIL', 'CENILVFPFRVIL', 'CENILVFPFRVIL', 'CENILVFPFRVIL', 'CENILVFPFRVIL', 'RDGFDIIPFIVTL', 'RDGFDIIPFIVTL', 'RDGFDIIPFIVTL', 'KHGFNITPFIATL', '-EDMNIRPLMLMI', '-RQMDCRPLTVAL', 'AKIYNLKPFILTL', 'RDGFDIIPFIVTL', 'EDGYDIKPFIATL', 'CSNILVFPFRMTL', 'ARVF-----LNTI']\n",
            "\n",
            "\n",
            "Имена последовательностей первой части ['MevORF338P', 'PspF4M1ORF9970P', 'Cha79ORF7175P', 'Nt.BstSEI']\n",
            "Паттерн, отличающий первую часть последовательностей от второй [['E'], ['L'], ['I', 'V'], ['T', 'S']]\n",
            "Фрагменты последовательностей первой части, соответствующие этому паттерну ['ELIT', 'ELVS', 'ELIT']\n",
            "Фрагменты последовательностей второй части, соответствующие этому паттерну ['GIIE', 'KLFK', 'GIIE', 'GIIE', 'GIIE', 'GIIE', 'GIIE', 'GIIE', 'GIIE', 'GIIE', 'GIIE', 'GIIE', 'GIIE', 'GIIE', 'GIIE', 'GIIE', 'GIIE', 'GIIE', 'GIIE', 'GIIE', 'GIIE', 'GIIE', 'GIIE', 'GIIE', 'GIIE', 'GIIE', 'KYFT', 'KCFT', 'KCFT', 'RFFR', 'GLFT', 'GLFR', 'RLIH', 'KYFT', 'RYFH', 'GIIE', 'GLII']\n",
            "\n",
            "\n",
            "Имена последовательностей первой части ['MevORF338P', 'PspF4M1ORF9970P', 'Cha79ORF7175P', 'Nt.BstSEI']\n",
            "Паттерн, отличающий первую часть последовательностей от второй [['I'], 'X3', ['D', 'E'], ['I', 'V'], 'X1', ['D'], 'X1', ['P'], ['L'], 'X2', ['E']]\n",
            "Фрагменты последовательностей первой части, соответствующие этому паттерну ['IKKKDIPDPPLFLE', 'IIQGEVADPPLIFE', 'IKKKEVPDAPLFLE']\n",
            "Фрагменты последовательностей второй части, соответствующие этому паттерну ['DLIHNKNLRGAYYE', '---EIKKYEPEKFE', 'DLTNNKNLRGAYYE', 'DLTNNKNLRGAYYE', 'DLTNNKNLRGAYYE', 'DLTNNKNLRGAYYE', 'DLTNNKNLRGAYYE', 'DLTNNKNLRGAYYE', 'DLTNNKNLRGAYYE', 'DLTNNKNLRGAYYE', 'DLTNNKNLRGAYYE', 'DLTNNKNLRGAYYE', 'DLTNNKNLRGAYYE', 'DLTNNKNLRGAYYE', 'DLTNNKNLRGAYYE', 'DLTNNKNLRGAYYE', 'DLTNNKNLRGAYYE', 'DLTNNKNLRGAYYE', 'DLTNNKNLRGAYYE', 'DLTNNKNLRGAYYE', 'DLTNNKNLRGAYYE', 'DLTNNKNLRGAYYE', 'DLTNNKNLRGAYYE', 'DLTNNKNLRGAYYE', 'DLTNNKNLRGAYYE', 'DLTNNKNLRGAYYE', '---YWKELEPADLE', '---YWKELEPADLE', '---YWKELEPADLE', '---LLRKLDPEGFE', 'SRDKDIVDRPLMYE', 'ARDSGMLDKPLFFE', '---NLDLKPSIALE', '---YWKELEPADLE', '---QSKEKKSIELE', 'DRSQYAVLKGAYYE', '-----NIPEPLRLE']\n",
            "\n",
            "\n",
            "Имена последовательностей первой части ['MevORF338P', 'PspF4M1ORF9970P', 'Cha79ORF7175P']\n",
            "Паттерн, отличающий первую часть последовательностей от второй [['M'], 'X2', ['L', 'I'], 'X3', ['K'], ['L'], ['F'], 'X1', ['F'], ['T'], ['S'], ['P'], ['R'], ['T'], 'X2', ['K'], ['I', 'M'], ['I'], 'X1', ['E'], ['I'], 'X1', ['I', 'L'], ['L'], 'X3', ['F'], 'X1']\n",
            "Фрагменты последовательностей первой части, соответствующие этому паттерну ['MANLSKTKALFGFTSPRTIEKIIPEIQILCQNF', 'MTSIGNTKTLFFFTSPRTPIKMIDEIELLVNNF', 'MGSLSKVKALFGFTSPRTLEKIIPEIELLTSSF']\n",
            "Фрагменты последовательностей второй части, соответствующие этому паттерну ['QKNRS-KEIWLVPKRGSLHQTICLIESLINRNY', '------MKLWSISTTVRNPERLRNFLQVL-KLL', 'QKNRS-KEVWLVPKRGSLHQTICLIESLINRNY', 'QKNRS-KEVWLVPKRGSLHQTICLIESLINRNY', 'QKNRS-KEVWLVPKRGSLHQTICLIESLINRNY', 'QKNRS-KEVWLVPKRGSLHQTICLIESLINRNY', 'QKNRS-KEVWLVPKRGSLHQTICLIESLINRNY', 'QKNRS-KEVWLVPKRGSLHQTICLIESLINRNY', 'QKNRS-KEVWLVPKRGSLHQTICLIESLINRNY', 'QKNRS-KEVWLVPKRGSLHQTICLIESLINRNY', 'QKNRS-KEVWLVPKRGSLHQTICLIESLINRNY', 'QKNRS-KEVWLVPKRGSLHQTICLIESLINRNY', 'QKNRS-KEVWLVPKRGSLHQTICLIESLINRNY', 'QKNRS-KEVWLVPKRGSLHQTICLIESLINRNY', 'QKNRS-KEVWLVPKRGSLHQTICLIESLINRNY', 'QKNRS-KEVWLVPKRGSLHQTICLIESLINRNY', 'QKNRS-KEVWLVPKRGSLHQTICLIESLINRNY', 'QKNRS-KEVWLVPKRGSLHQTICLIESLINRNY', 'QKNRS-KEVWLVPKRGSLHQTICLIESLINRNY', 'QKNRS-KEVWLVPKRGSLHQTICLIESLINRNY', 'QKNRS-KEVWLVPKRGSLHQTICLIESLINRNY', 'QKNRS-KEVWLVPKRGSLHQTICLIESLINRNY', 'QKNRS-KEVWLVPKRGSLHQTICLIESLINRNY', 'QKNRS-KEVWLVPKRGSLHQTICLIESLINRNY', 'QKNRS-KEVWLVPKRGSLHQTICLIESLINRNY', 'QKNRS-KEVWLVPKRGSLHQTICLIESLINRNY', '-----MRKPWSISTTVRNPERLRGFLQVL-SEF', '-----MRKPWSISTTVRNPERLRGFLQVL-SEF', '-----MRKPWSISTTVRNPERLRGFLQVL-SEF', '-----MRKPWSISTTVRNPERLRDFLKVL-KQL', 'ESKTSRSRAWNFPTSPRSPYKLQGELQLL-KAF', 'SEETALTRAWFFPTSPRSPYKIKPELELL-KQV', '-----MRKAWSISTTVRNPERLRNFLITL-KEI', '-----MRKPWSISTTVRNPERLRGFLQVL-SEF', '-----MKKIWSISTTVRNPERIRNFLVAL-KPL', 'QGNRS-KEIWLIPKRGSLHQTICLIDGIIERNY', '-MRKNTFNIFSFDTTIRNPQRNIDFLQII-DKI']\n",
            "\n",
            "\n",
            "Имена последовательностей первой части ['MevORF338P', 'PspF4M1ORF9970P', 'Cha79ORF7175P']\n",
            "Паттерн, отличающий первую часть последовательностей от второй [['A'], ['A'], ['R'], ['D'], ['R'], ['M', 'I'], 'X1', ['R']]\n",
            "Фрагменты последовательностей первой части, соответствующие этому паттерну ['AARDRMTR', 'AARDRINR', 'AARDRITR']\n",
            "Фрагменты последовательностей второй части, соответствующие этому паттерну ['QSIRTLLA', 'RGRQSVNP', 'QSIRTLLA', 'QSIRTLLA', 'QSIRTLLA', 'QSIRTLLA', 'QSIRTLLA', 'QSIRTLLA', 'QSIRTLLA', 'QSIRTLLA', 'QSIRTLLA', 'QSIRTLLA', 'QSIRTLLA', 'QSIRTLLA', 'QSIRTLLA', 'QSIRTLLA', 'QSIRTLLA', 'QSIRTLLA', 'QSIRTLLA', 'QSIRTLLA', 'QSIRTLLA', 'QSIRTLLA', 'QSIRTLLA', 'QSIRTLLA', 'QSIRTLLA', 'QSIRTLLA', 'RGRQSVNP', 'RGRQSVNP', 'RGRQSVNP', 'RGRQSVNP', 'SARDRLRG', 'SARDRTRA', 'RGRTSYKP', 'RGRQSVNP', 'RGRQSFNP', 'QAIRTLTA', 'RAITHFKA']\n",
            "\n",
            "\n",
            "Имена последовательностей первой части ['MevORF338P', 'PspF4M1ORF9970P', 'Cha79ORF7175P']\n",
            "Паттерн, отличающий первую часть последовательностей от второй [['R'], 'X2', ['E'], ['L', 'I'], ['F'], 'X1', ['R'], ['Q'], ['L', 'M'], ['L', 'M'], ['K'], ['F'], ['Q'], ['L'], ['P'], ['S'], ['P'], ['Y'], ['H']]\n",
            "Фрагменты последовательностей первой части, соответствующие этому паттерну ['RLDELFTRQLLKFQLPSPYH', 'RINEIFIRQMMKFQLPSPYH', 'REDEIFTRQMLKFQLPSPYH']\n",
            "Фрагменты последовательностей второй части, соответствующие этому паттерну ['ETSPIILEQFEKLQITNPII', 'DISYIFLKSLLKLQFPNPWS', 'ETSSVFLEQFEKLQITNPVI', 'ETSSVFLEQFEKLQITNPII', 'ETSSVFLEQFEKLQITNPVI', 'ETSSVFLEQFEKLQITNPVI', 'ETSSVFLEQFEKLQITNPVI', 'ETSSVFLEQFEKLQITNPVI', 'ETSSVFLEQFEKLQITNPVI', 'ETSSVFLEQFEKLQITNPVI', 'ETSSVFLEQFEKLQITNPVI', 'ETSSVFLEQFEKLQITNPVI', 'ETSSVFLEQFEKLQITNPVI', 'ETSSVFLEQFEKLQITNPVI', 'ETSSVFLEQFEKLQITNPVI', 'ETSSVFLEQFEKLQITNPVI', 'ETSSVFLEQFEKLQITNPVI', 'ETSSVFLEQFEKLQITNPVI', 'ETSSVFLEQFEKLQITNPVI', 'ETSSVFLEQFEKLQITNPVI', 'ETSSVFLEQFEKLQITNPVI', 'ETSSVFLEQFEKLQITNPVI', 'ETSSVFLEQFEKLQITNPVI', 'ETSSVFLEQFEKLQITNPVI', 'ETSSVFLEQFEKLQITNPVI', 'ETSSVFLEQFEKLQITNPVI', 'DVSEILFKSLLKLQYPNPFS', 'DVSEILFKSLLKLQYPNPFS', 'DVSEILFKSLLKLQYPNPFS', 'DIGFVFLKSLLKLQFPNPWS', 'EQELILQRQIAKVQYRSHLH', 'QETAFFLNQIAKVQFPSAQH', 'DLGEMFFKSFLKWQYPNPVD', 'DISEILFKSLLKLQYPNPFS', 'DLGEMFFKSFLKWQLPNPLS', 'TQSSIVLKQMEKLQITNPII', 'DVQNIYTKILLGIHFGSPIR']\n",
            "\n",
            "\n",
            "Имена последовательностей первой части ['MevORF338P', 'PspF4M1ORF9970P', 'Cha79ORF7175P']\n",
            "Паттерн, отличающий первую часть последовательностей от второй [['T', 'S'], 'X2', ['F'], 'X1', ['V'], ['R', 'K'], ['P'], ['Y'], ['L'], ['E'], ['L', 'I'], ['I', 'L']]\n",
            "Фрагменты последовательностей первой части, соответствующие этому паттерну ['TVNFAVRPYLELI', 'SGRFYVRPYLEIL', 'SLEFSVKPYLELL']\n",
            "Фрагменты последовательностей второй части, соответствующие этому паттерну ['CENILVFPFRVVL', 'NDGFDVQPLIATM', 'CENILVFPFRVIL', 'CENILVFPFRVIL', 'CENILVFPFRVIL', 'CENILVFPFRVIL', 'CENILVFPFRVIL', 'CENILVFPFRVIL', 'CENILVFPFRVIL', 'CENILVFPFRVIL', 'CENILVFPFRVIL', 'CENILVFPFRVIL', 'CENILVFPFRVIL', 'CENILVFPFRVIL', 'CENILVFPFRVIL', 'CENILVFPFRVIL', 'CENILVFPFRVIL', 'CENILVFPFRVIL', 'CENILVFPFRVIL', 'CENILVFPFRVIL', 'CENILVFPFRVIL', 'CENILVFPFRVIL', 'CENILVFPFRVIL', 'CENILVFPFRVIL', 'CENILVFPFRVIL', 'CENILVFPFRVIL', 'RDGFDIIPFIVTL', 'RDGFDIIPFIVTL', 'RDGFDIIPFIVTL', 'KHGFNITPFIATL', '-EDMNIRPLMLMI', '-RQMDCRPLTVAL', 'AKIYNLKPFILTL', 'RDGFDIIPFIVTL', 'EDGYDIKPFIATL', 'CSNILVFPFRMTL', 'ARVF-----LNTI']\n",
            "\n",
            "\n",
            "Имена последовательностей первой части ['MevORF338P', 'PspF4M1ORF9970P', 'Cha79ORF7175P']\n",
            "Паттерн, отличающий первую часть последовательностей от второй [['E'], ['L'], ['I', 'V'], ['T', 'S']]\n",
            "Фрагменты последовательностей первой части, соответствующие этому паттерну ['ELIT', 'ELVS', 'ELIT']\n",
            "Фрагменты последовательностей второй части, соответствующие этому паттерну ['GIIE', 'KLFK', 'GIIE', 'GIIE', 'GIIE', 'GIIE', 'GIIE', 'GIIE', 'GIIE', 'GIIE', 'GIIE', 'GIIE', 'GIIE', 'GIIE', 'GIIE', 'GIIE', 'GIIE', 'GIIE', 'GIIE', 'GIIE', 'GIIE', 'GIIE', 'GIIE', 'GIIE', 'GIIE', 'GIIE', 'KYFT', 'KCFT', 'KCFT', 'RFFR', 'GLFT', 'GLFR', 'RLIH', 'KYFT', 'RYFH', 'GIIE', 'GLII']\n",
            "\n",
            "\n",
            "Имена последовательностей первой части ['MevORF338P', 'PspF4M1ORF9970P', 'Cha79ORF7175P']\n",
            "Паттерн, отличающий первую часть последовательностей от второй [['I'], 'X3', ['D', 'E'], ['I', 'V'], 'X1', ['D'], 'X1', ['P'], ['L'], 'X2', ['E']]\n",
            "Фрагменты последовательностей первой части, соответствующие этому паттерну ['IKKKDIPDPPLFLE', 'IIQGEVADPPLIFE', 'IKKKEVPDAPLFLE']\n",
            "Фрагменты последовательностей второй части, соответствующие этому паттерну ['DLIHNKNLRGAYYE', '---EIKKYEPEKFE', 'DLTNNKNLRGAYYE', 'DLTNNKNLRGAYYE', 'DLTNNKNLRGAYYE', 'DLTNNKNLRGAYYE', 'DLTNNKNLRGAYYE', 'DLTNNKNLRGAYYE', 'DLTNNKNLRGAYYE', 'DLTNNKNLRGAYYE', 'DLTNNKNLRGAYYE', 'DLTNNKNLRGAYYE', 'DLTNNKNLRGAYYE', 'DLTNNKNLRGAYYE', 'DLTNNKNLRGAYYE', 'DLTNNKNLRGAYYE', 'DLTNNKNLRGAYYE', 'DLTNNKNLRGAYYE', 'DLTNNKNLRGAYYE', 'DLTNNKNLRGAYYE', 'DLTNNKNLRGAYYE', 'DLTNNKNLRGAYYE', 'DLTNNKNLRGAYYE', 'DLTNNKNLRGAYYE', 'DLTNNKNLRGAYYE', 'DLTNNKNLRGAYYE', '---YWKELEPADLE', '---YWKELEPADLE', '---YWKELEPADLE', '---LLRKLDPEGFE', 'SRDKDIVDRPLMYE', 'ARDSGMLDKPLFFE', '---NLDLKPSIALE', '---YWKELEPADLE', '---QSKEKKSIELE', 'DRSQYAVLKGAYYE', '-----NIPEPLRLE']\n",
            "\n",
            "\n",
            "Имена последовательностей первой части ['PspF4M1ORF9970P', 'Cha79ORF7175P']\n",
            "Паттерн, отличающий первую часть последовательностей от второй [['R', 'K'], ['T', 'S'], ['V', 'L'], 'X1', ['F'], 'X1', ['V'], ['R', 'K'], ['P'], ['Y'], ['L'], ['E'], ['L']]\n",
            "Фрагменты последовательностей первой части, соответствующие этому паттерну ['RTVNFAVRPYLEL', 'KSLEFSVKPYLEL']\n",
            "Фрагменты последовательностей второй части, соответствующие этому паттерну ['-CENILVFPFRVV', '-NDGFDVQPLIAT', '-CENILVFPFRVI', '-CENILVFPFRVI', '-CENILVFPFRVI', '-CENILVFPFRVI', '-CENILVFPFRVI', '-CENILVFPFRVI', '-CENILVFPFRVI', '-CENILVFPFRVI', '-CENILVFPFRVI', '-CENILVFPFRVI', '-CENILVFPFRVI', '-CENILVFPFRVI', '-CENILVFPFRVI', '-CENILVFPFRVI', '-CENILVFPFRVI', '-CENILVFPFRVI', '-CENILVFPFRVI', '-CENILVFPFRVI', '-CENILVFPFRVI', '-CENILVFPFRVI', '-CENILVFPFRVI', '-CENILVFPFRVI', '-CENILVFPFRVI', '-CENILVFPFRVI', '-RDGFDIIPFIVT', '-RDGFDIIPFIVT', '-RDGFDIIPFIVT', '-KHGFNITPFIAT', '-SGRFYVRPYLEI', '--EDMNIRPLMLM', '--RQMDCRPLTVA', '-AKIYNLKPFILT', '-RDGFDIIPFIVT', '-EDGYDIKPFIAT', '-CSNILVFPFRMT', '-ARVF-----LNT']\n",
            "\n",
            "\n",
            "Имена последовательностей первой части ['PspF4M1ORF9970P', 'Cha79ORF7175P']\n",
            "Паттерн, отличающий первую часть последовательностей от второй [['Q'], ['I'], ['K'], ['K'], ['K'], ['D', 'E'], ['I', 'V'], ['P'], ['D'], 'X1', ['P'], ['L'], ['F'], ['L']]\n",
            "Фрагменты последовательностей первой части, соответствующие этому паттерну ['QIKKKDIPDPPLFL', 'QIKKKEVPDAPLFL']\n",
            "Фрагменты последовательностей второй части, соответствующие этому паттерну ['TDLIHNKNLRGAYY', '----EIKKYEPEKF', 'ADLTNNKNLRGAYY', 'ADLTNNKNLRGAYY', 'ADLTNNKNLRGAYY', 'ADLTNNKNLRGAYY', 'ADLTNNKNLRGAYY', 'ADLTNNKNLRGAYY', 'ADLTNNKNLRGAYY', 'ADLTNNKNLRGAYY', 'ADLTNNKNLRGAYY', 'ADLTNNKNLRGAYY', 'ADLTNNKNLRGAYY', 'ADLTNNKNLRGAYY', 'ADLTNNKNLRGAYY', 'ADLTNNKNLRGAYY', 'ADLTNNKNLRGAYY', 'ADLTNNKNLRGAYY', 'ADLTNNKNLRGAYY', 'ADLTNNKNLRGAYY', 'ADLTNNKNLRGAYY', 'ADLTNNKNLRGAYY', 'ADLTNNKNLRGAYY', 'ADLTNNKNLRGAYY', 'ADLTNNKNLRGAYY', 'ADLTNNKNLRGAYY', '----YWKELEPADL', '----YWKELEPADL', '----YWKELEPADL', '----LLRKLDPEGF', 'SIIQGEVADPPLIF', 'ASRDKDIVDRPLMY', 'VARDSGMLDKPLFF', '----NLDLKPSIAL', '----YWKELEPADL', '----QSKEKKSIEL', 'KDRSQYAVLKGAYY', '------NIPEPLRL']\n",
            "\n",
            "\n",
            "['Q'] Q\n",
            "Имена последовательностей первой части ['Hma5501ORF386P', 'TceNA10ORFFP', 'CspF32ORFDP', 'Csp104CI', 'CsaDORF2754P', 'UbaWWE31ORF770P', 'SgoGD1ORF1577P', 'KspDU53ORF425P', 'BbaNSORF2078P']\n",
            "Паттерн, отличающий вторую часть последовательностей от первой [['Q'], 'X2', ['K']]\n",
            "Фрагменты последовательностей первой части, соответствующие этому паттерну ['SLLK', 'SLLK', 'SLLK', 'SLLK', 'SLLK', 'SFLK', 'SLLK', 'SFLK', 'ILLG']\n",
            "Фрагменты последовательностей второй части, соответствующие этому паттерну ['QFEK', 'QFEK', 'QFEK', 'QFEK', 'QFEK', 'QFEK', 'QFEK', 'QFEK', 'QFEK', 'QFEK', 'QFEK', 'QFEK', 'QFEK', 'QFEK', 'QFEK', 'QFEK', 'QFEK', 'QFEK', 'QFEK', 'QFEK', 'QFEK', 'QFEK', 'QFEK', 'QFEK', 'QFEK', 'QLLK', 'QMMK', 'QIAK', 'QMLK', 'QIAK', 'QMEK']\n",
            "\n",
            "\n",
            "['F'] F\n",
            "Имена последовательностей первой части ['Hma5501ORF386P', 'TceNA10ORFFP', 'CspF32ORFDP', 'Csp104CI', 'CsaDORF2754P', 'UbaWWE31ORF770P', 'SgoGD1ORF1577P', 'KspDU53ORF425P', 'BbaNSORF2078P']\n",
            "Паттерн, отличающий вторую часть последовательностей от первой [['F'], 'X2', ['T']]\n",
            "Фрагменты последовательностей первой части, соответствующие этому паттерну ['LKNE', 'NIET', 'NIET', 'NIET', 'ITKT', 'N--I', 'NIET', 'N--M', 'LKHL']\n",
            "Фрагменты последовательностей второй части, соответствующие этому паттерну ['FRGT', 'FKET', 'FKET', 'FKET', 'FKET', 'FKET', 'FKET', 'FKET', 'FKET', 'FKET', 'FKET', 'FKET', 'FKET', 'FKET', 'FKET', 'FKET', 'FKET', 'FKET', 'FKET', 'FKET', 'FKET', 'FKET', 'FKET', 'FKET', 'FKET', 'FIKT', 'FINT', 'FSKT', 'FIKT', 'FIAT', 'FKET']\n",
            "\n",
            "\n",
            "Имена последовательностей первой части ['TceNA10ORFFP', 'CspF32ORFDP', 'Csp104CI', 'CsaDORF2754P']\n",
            "Паттерн, отличающий первую часть последовательностей от второй [['K'], ['N'], ['K'], ['N'], ['K'], ['L'], ['I'], ['E'], ['M'], ['A'], ['E'], ['S'], ['I'], ['R'], ['K'], ['D'], ['I'], ['S'], ['Q']]\n",
            "Фрагменты последовательностей первой части, соответствующие этому паттерну ['KNKNKLIEMAESIRKDISQ', 'KNKNKLIEMAESIRKDISQ', 'KNKNKLIEMAESIRKDISQ', 'KNKNKLIEMAESIRKDISQ']\n",
            "Фрагменты последовательностей второй части, соответствующие этому паттерну ['NKSNG--SIIMTVEQNGVM', 'EIENL-KAIAKNLMEDIKN', 'NKGNS--NLIIIIEQNGVM', 'NKGNS--NLIIIIEQNGVM', 'NKGNS--NLIIIIEQNGVM', 'NKGNS--NLIIIIEQNGVM', 'NKGNS--NLIIIIEQNGVM', 'NKGNS--NLIIIIEQNGVM', 'NKGNS--NLIIIIEQNGVM', 'NKGNS--NLIIIIEQNGVM', 'NKGNS--NLIIIIEQNGVM', 'NKGNS--NLIIIIEQNGVM', 'NKGNS--NLIIIIEQNGVM', 'NKGNS--NLIIIIEQNGVM', 'NKGNS--NLIIIIEQNGVM', 'NKGNS--NLIIIIEQNGVM', 'NKGNS--NLIIIIEQNGVM', 'NKGNS--NLIIIIEQNGVM', 'NKGNS--NLIIIIEQNGVM', 'NKGNS--NLIIIIEQNGVM', 'NKGNS--NLIIIIEQNGVM', 'NKGNS--NLIIIIEQNGVM', 'NKGNS--NLIIIIEQNGVM', 'NKGNS--NLIIIIEQNGVM', 'NKGNS--NLIIIIEQNGVM', 'NKGNS--NLIIIIEQNGVM', 'NKELL-IAKLKT-------', 'HIDNL-KKVAVNLRNIIVD', 'NKEET-TKKIFE-------', 'NTDDQ-ERDFTKMYQAVKQ', 'NKDLL-INKIEK-------', 'SESTQ-LRRLNEILQVKAT', 'SEQEQ-KKISDAIKVEVEA', 'TQTEL-VRISNYTADDIRQ', 'NKSNS--DVLVCISKDGQL', 'ENNEVRKQIATQKAKELHI']\n",
            "\n",
            "\n",
            "Имена последовательностей первой части ['TceNA10ORFFP', 'CspF32ORFDP', 'Csp104CI', 'CsaDORF2754P']\n",
            "Паттерн, отличающий первую часть последовательностей от второй [['Y'], ['W'], ['K'], ['E'], ['L'], ['E'], ['P'], ['A'], ['D'], ['L']]\n",
            "Фрагменты последовательностей первой части, соответствующие этому паттерну ['YWKELEPADL', 'YWKELEPADL', 'YWKELEPADL', 'YWKELEPADL']\n",
            "Фрагменты последовательностей второй части, соответствующие этому паттерну ['HNKNLRGAYY', 'EIKKYEPEKF', 'NNKNLRGAYY', 'NNKNLRGAYY', 'NNKNLRGAYY', 'NNKNLRGAYY', 'NNKNLRGAYY', 'NNKNLRGAYY', 'NNKNLRGAYY', 'NNKNLRGAYY', 'NNKNLRGAYY', 'NNKNLRGAYY', 'NNKNLRGAYY', 'NNKNLRGAYY', 'NNKNLRGAYY', 'NNKNLRGAYY', 'NNKNLRGAYY', 'NNKNLRGAYY', 'NNKNLRGAYY', 'NNKNLRGAYY', 'NNKNLRGAYY', 'NNKNLRGAYY', 'NNKNLRGAYY', 'NNKNLRGAYY', 'NNKNLRGAYY', 'NNKNLRGAYY', 'KDIPDPPLFL', 'LLRKLDPEGF', 'GEVADPPLIF', 'KDIVDRPLMY', 'KEVPDAPLFL', 'SGMLDKPLFF', 'NLDLKPSIAL', 'QSKEKKSIEL', 'QYAVLKGAYY', '--NIPEPLRL']\n",
            "\n",
            "\n",
            "Имена последовательностей первой части ['TceNA10ORFFP', 'CspF32ORFDP', 'Csp104CI', 'CsaDORF2754P']\n",
            "Паттерн, отличающий первую часть последовательностей от второй [['H'], ['S'], ['M'], ['I'], ['C'], ['S'], ['L'], ['I'], ['D'], ['N'], ['K'], ['L'], ['Y'], ['S'], ['L']]\n",
            "Фрагменты последовательностей первой части, соответствующие этому паттерну ['HSMICSLIDNKLYSL', 'HSMICSLIDNKLYSL', 'HSMICSLIDNKLYSL', 'HSMICSLIDNKLYSL']\n",
            "Фрагменты последовательностей второй части, соответствующие этому паттерну ['---------------', 'YSNWISIIPDLIKEW', '---------------', '---------------', '---------------', '---------------', '---------------', '---------------', '---------------', '---------------', '---------------', '---------------', '---------------', '---------------', '---------------', '---------------', '---------------', '---------------', '---------------', '---------------', '---------------', '---------------', '---------------', '---------------', '---------------', '---------------', 'EEKWKSEIEKNILKW', 'FSDWTRKIDQLLECW', 'EIEWYKTIKNTVTNW', 'ELDWFNLVRQKAAEI', 'ESIWSENIEKSILKW', 'EPLWFENAKETFRAL', 'SDDWLRAIPESINKF', 'SDVWTSQISGVVEQW', '---------------', 'SVNFVR---------']\n",
            "\n",
            "\n",
            "['L', 'I', 'V'] L\n",
            "Имена последовательностей первой части ['TceNA10ORFFP', 'CspF32ORFDP', 'Csp104CI', 'CsaDORF2754P']\n",
            "Паттерн, отличающий вторую часть последовательностей от первой [['L', 'I', 'V'], ['L', 'I', 'V', 'M']]\n",
            "Фрагменты последовательностей первой части, соответствующие этому паттерну ['FF', 'FF', 'FF', 'FF']\n",
            "Фрагменты последовательностей второй части, соответствующие этому паттерну ['LL', 'LI', 'LL', 'LL', 'LL', 'LL', 'LL', 'LL', 'LL', 'LL', 'LL', 'LL', 'LL', 'LL', 'LL', 'LL', 'LL', 'LL', 'LL', 'LL', 'LL', 'LL', 'LL', 'LL', 'LL', 'LL', 'LI', 'LI', 'LI', 'LL', 'LV', 'IM', 'LI', 'LI', 'LI', 'VI']\n",
            "\n",
            "\n",
            "Имена последовательностей первой части ['UbaWWE31ORF770P', 'SgoGD1ORF1577P']\n",
            "Паттерн, отличающий первую часть последовательностей от второй [['R'], 'X1', ['Q'], ['W'], 'X1', ['N', 'Q'], ['E'], ['G'], ['Q'], ['P'], ['V'], ['M'], ['R'], ['H'], 'X1', ['R'], ['D'], ['F']]\n",
            "Фрагменты последовательностей первой части, соответствующие этому паттерну ['RDQWHNEGQPVMRHFRDF', 'RAQWMQEGQPVMRHLRDF']\n",
            "Фрагменты последовательностей второй части, соответствующие этому паттерну ['STQFSAEGSSVPDHIKLF', 'NFQWIKETQPVMRHLRDF', 'SAQFSAEGSSVPDHIKLF', 'SAQFSAEGSSVPDHIKLF', 'SAQFSAEGSSVPDHIKLF', 'SAQFSAEGSSVPDHIKLF', 'SAQFSAEGSSVPDHIKLF', 'SAQFSAEGSSVPDHIKLF', 'SAQFSAEGSSVPDHIKLF', 'SAQFSAEGSSVPDHIKLF', 'SAQFSAEGSSVPDHIKLF', '------------------', '------------------', '------------------', '------------------', '------------------', 'SAQFSAEGSSVPDHIKLF', 'SAQFSAEGSSVPDHIKLF', '------------------', '------------------', 'SAQFSAEGSSVPDHIKLF', 'SAQFSAEGSSVPDHIKLF', 'SAQFSAEGSSVPDHIKLF', 'SAQFSAEGSSVPDHIKLF', 'SAQFSAEGSSVPDHIKLF', 'SAQFSAEGSSVPDHIKLF', 'ATQFKMEGDSVPRHFGNA', 'QYQWIQEGYPVLDHVAKF', 'QYQWIQEGYPVLDHVAKF', 'QYQWIQEGYPVLDHVAKF', 'NLQWVQEGQPVMRHLRNF', 'EKQYDMESEPVPRHLGDF', 'MKQYETEGEPIIRHIGKL', 'NTQYKMESESVPRHFGKA', 'HKQYESESESITRHVGTL', 'QYQWIQEGYPVLDHVAKF', 'STQFNAEGASVPDHIRLY', 'NQQLNSETTSVARHFYES']\n",
            "\n",
            "\n",
            "Имена последовательностей первой части ['KspDU53ORF425P', 'BbaNSORF2078P']\n",
            "Паттерн, отличающий первую часть последовательностей от второй [['E'], ['M', 'I'], ['P'], ['Y'], 'X1', ['V'], ['A'], ['E'], ['K'], ['I'], ['F']]\n",
            "Фрагменты последовательностей первой части, соответствующие этому паттерну ['EMPYEVAEKIF', 'EIPYNVAEKIF']\n",
            "Фрагменты последовательностей второй части, соответствующие этому паттерну ['-----------', '-----------', '-----------', '-----------', '-----------', '-----------', '-----------', '-----------', '-----------', '-----------', '-----------', '-----------', '-----------', '-----------', '-----------', '-----------', '-----------', '-----------', '-----------', '-----------', '-----------', '-----------', '-----------', '-----------', '-----------', '-----------', 'KIDYKKAKKIF', 'KIDYKKAKKIF', 'KIDYKKAKKIF', '-----------', '-----------', '-----------', '-----------', 'IITLDEAVHIL', 'KIDYKKAKKIF', 'TLTYEQAEEIL', '-----------', 'SLSESEIKRIM']\n",
            "\n",
            "\n",
            "Имена последовательностей первой части ['KspDU53ORF425P', 'BbaNSORF2078P']\n",
            "Паттерн, отличающий первую часть последовательностей от второй [['N'], 'X1', ['F'], ['L'], ['E'], 'X1', ['E', 'D']]\n",
            "Фрагменты последовательностей первой части, соответствующие этому паттерну ['NQFLEDE', 'NLFLEGD']\n",
            "Фрагменты последовательностей второй части, соответствующие этому паттерну ['KKLYDYH', 'RYLYNFH', 'RYLYNFH', 'RYLYNFH', 'RYLYNFH', 'RYLYNFH', 'RYLYNFH', 'RYLYNFH', 'RYLYNFH', 'RYLYNFH', 'RYLYNFH', 'RYLYNFH', 'RYLYNFH', 'RYLYNFH', 'RYLYNFH', 'RYLYNFH', 'RYLYNFH', 'RYLYNFH', 'RYLYNFH', 'RYLYNFH', 'RYLYNFH', 'RYLYNFH', 'RYLYNFH', 'RYLYNFH', 'RYLYNFH', 'ELLLS--', 'RKFLDEN', 'RKFLDEN', 'RKFLDEN', 'ARLLS--', 'KLFLNAT', 'KLLLT--', 'REFLTLE', 'KYLLEDD', 'RKFLDEN', 'EYLLKED', 'ENLWNKH', 'RELLNHP']\n",
            "\n",
            "\n"
          ]
        }
      ]
    },
    {
      "cell_type": "code",
      "source": [
        "results(tree_3, align_3, threshold_1=10**(-10))"
      ],
      "metadata": {
        "colab": {
          "base_uri": "https://localhost:8080/"
        },
        "id": "Cnsqm9q75pwn",
        "outputId": "fce250e0-24a7-486f-ad3b-a5b7c3b76133"
      },
      "execution_count": 94,
      "outputs": [
        {
          "output_type": "stream",
          "name": "stdout",
          "text": [
            "Имена последовательностей первой части ['Q8FNQ6_COREF', 'ASNH_MYCTU']\n",
            "Паттерн, отличающий первую часть последовательностей от второй [['D', 'E'], ['W'], 'X1', ['H'], 'X1', ['D', 'E'], ['V'], ['T'], ['A'], ['P'], ['V', 'I'], ['Y'], ['A'], 'X1', ['S'], 'X3', ['D'], ['P'], ['V'], ['A'], ['R'], ['M']]\n",
            "Фрагменты последовательностей первой части, соответствующие этому паттерну ['DWTHTDVTAPVYAESAGWDPVARM', 'EWDHREVTAPIYAQSRDMDPVARM']\n",
            "Фрагменты последовательностей второй части, соответствующие этому паттерну ['----ATPPDLFPYSSQIGSSLRRT', '----------------AATPVDQA', '----------------ASAAVDKA', '----------------TDDAIYRR', '----------------TYPDPHHL', '----------------DWDRFSWE', '----------------GYEKIQGY', '----------------GTGTETRI', '----------------NALHLHKE', '----------------NKEEFHRE', '----------------SEKDLHDE', '----------------DRVEFHKE', '----------------NAREFHEE', '----------------NAKELHEE', '----------------NAQEFHEE', '----------------NAQAFHEE', '----------------TPKDFHEE', '----------------NAKEFHEE', '----------------SAGAFQKE', '----------------SPEKAEEE', '----------------SPKAGAED', '----------SKELIWKIKTLNEA', 'YDAAEELVSRLPAAFGRWHPLHQA', 'RDAVSELLARLPAAFSRWSHLAQD', '--GCWDGFEFDRGAVRGRHWLDRS', '-DAAAPLLAAGAGLLAGRAPAHQA', '-----VAGAIDPAQVRGRHRLDVS', '-----IAEQLNPQQLDGRHALDKA', 'RTELIDRFHRAGYMPPGVQASDAL', 'VRRQLLAALAATPQPLATLPVQHE', 'AERMAQRALREAAMTAVPLHPDRG', 'MQQSLDRSRYRLRLGGGHTSLPTF', '------------ADHRGVSPAKRI', 'SSFDDFKQIFWGKNVGKESYFDSI', '---------------SQADPWQSY', '-PAWRDPILETFQDFPSKEGEGWY', '-------VAEDDVLPREWGGLNRR', '---------------PYNARMREM', '---------------PEEARRREI', '---------------GVDKARRQL', '---------------KIDAKRREL', '---------------ETQVKQRVA', '---------------KKSAKQRQM', '---------------PHERRMREL', '---------------AAERRAREV', '---------------PAERRAREV', '---------------APERRMREI', '---------------TRERRMREI', '---------------AAQRRQREV', 'APTVKDIVGKTYKKAPEGSELRKM', 'SVNYMDITKPLYNEIKDYDDVSKM', 'GHDYTNITDPFYAETTNYHPVERM', 'NLSYRDVTKTYFTESSSYSDINKM', '------------EPGDGSPGLHQL', '--QTLDQEITQILEDSSLSSLSKM', '----------------AHEALGQG', 'AQPALLIERTYQDVSHARSLINRM', '---------DYADKSPTKDALSLI', '------------------------', '--DPVDFLESVWARSEGRDVVTRA', '---TFPPKSRAFKVGERIHPMQGM', 'FTPISNERLNQSIHELKLDPVTFM', '---PSTAFSSSTTFPVNGGYVDWM', '---HTALLDTPERWPRVDSFQHWM', '-----TEPLSPFEQPMEGSTFDAM', '---PDSFYSLADPLHGSGTPADAM', '-------AASNASATQLDGLLSRL', '---PPTPLDTVSAWPAHLSFAEQA', '---PLTVLTDPKRKANFSDPILQM', '---PRTALTEPATVLEGADFEARM', '---DISLWPEPLPDLNFTE---RM', '---EKLPFLSDLTELSHLNDLEKM', '------------QLYRPEDYINHS', '------------TPIKTEDYINYS', '---VLAEHADVYQDNELDDFVNRM', 'PTRLFASTKRLWEALPDWPPMARV']\n",
            "\n",
            "\n",
            "Имена последовательностей первой части ['Q7U3H9_SYNPX', 'Q7UHC5_RHOBA']\n",
            "Паттерн, отличающий первую часть последовательностей от второй [['C'], ['S'], ['I'], ['L'], ['G'], ['L'], ['A']]\n",
            "Фрагменты последовательностей первой части, соответствующие этому паттерну ['CSILGLA', 'CSILGLA']\n",
            "Фрагменты последовательностей второй части, соответствующие этому паттерну ['SAVVATM', 'SLIVGLL', 'SMLVGLL', 'AVIAATL', 'TIVLYLA', 'STVAKLA', 'VIVAYLA', 'SSVAALA', 'SLIASIA', 'SIIAAIL', 'SIIASIA', 'SVISAVA', 'SLVAAVA', 'SVISAIT', 'SITSAVA', 'SVISAIT', 'SVISAIA', 'SVISAIT', 'SLVCAIA', 'SLVAATL', 'SLVAALL', 'SSIVCAM', 'SIISALA', 'SLVATLG', 'AVIAALL', 'SAVAASA', 'SSIACVA', 'TSLCFLA', 'TSICFLA', 'GSITLSA', 'AIVASSL', 'SLVAAMA', 'AAVAHFA', 'SLISALY', 'SAVICTM', 'TAVSFFA', 'SALTAIA', 'SAITAIA', 'SAITAIA', 'SVLVSLA', 'SGITALA', 'TTLTAIA', 'SALSALA', 'SALTALA', 'SAVTALA', 'SVVTALA', 'SAISAFA', 'SYVASTL', 'TAIAALA', 'TAIATLA', 'SIIASIA', 'SIIAAIA', 'SFIVSVA', 'TVIASRL', 'SLITALA', 'NLLGSYL', 'STLAGIL', 'SAVVAMM', 'STVVGVM', 'SLITALA', 'SLVAAIL', 'SLVSALL', 'SLIVSIM', 'STVVALM', 'STVVALM', 'SIVTAMM', 'STVVALM', 'SAIVALM', 'SLIVSLM', 'STVVALM', 'SAVVALM', 'STVVGIL', 'GSIAAVA', 'GSITMIA', 'SYLTALA', 'SSVAAMA']\n",
            "\n",
            "\n",
            "Имена последовательностей первой части ['Q82BL5_STRAW', 'Q82R84_STRAW']\n",
            "Паттерн, отличающий первую часть последовательностей от второй [['V'], ['V'], ['S'], 'X1', ['D'], ['L']]\n",
            "Фрагменты последовательностей первой части, соответствующие этому паттерну ['VVSADL', 'VVSCDL']\n",
            "Фрагменты последовательностей второй части, соответствующие этому паттерну ['PYGAYL', 'PVGVLL', 'DVGVLL', 'RYGVML', 'PVSIMF', 'RVGVVL', 'KIGIVF', 'EAGVML', 'NFGFML', 'PFGILL', 'PFGILL', 'PYGVLL', 'PYGVLL', 'PYGVLL', 'PYGVLL', 'PYGVLL', 'PYGVLL', 'PYGVLL', 'PMGYLL', 'RIGCLL', 'RIGCLL', 'PVGSCL', 'PVGAYL', 'PVGCYL', 'EPTCFL', 'PLACHL', 'PVGCYL', 'PVGCYL', 'SVGAML', 'PVATCL', 'PILLEI', 'EVGAYI', 'EVGLFL', 'PVASFL', 'PIGTCL', 'PLCSLL', 'PVGMFL', 'PVCTFL', 'PVSTLL', 'PITFLL', 'PLVCML', 'PVCSLL', 'PVGAML', 'PVGAML', 'PLGTLL', 'PLCTLL', 'PLGSLL', 'EVGAFV', 'TVGAFL', 'TVGSFL', 'PVGSFL', 'PVGSFL', 'PVGSFL', 'PLGVLL', 'EVGSFL', 'PCALLV', 'KAGTFL', 'PLGAFL', 'PVGAFL', 'PLGSFL', 'PVGVFL', 'KITSFL', 'PLGAFL', 'PLGAFL', 'SLGAFL', 'PVGVFL', 'PLGAFL', 'PLGAFL', 'PLGAFL', 'PLGAFL', 'PLGAFL', 'PLGAFL', 'ELGSYL', 'PVNSYL', 'PVATFL', 'PVGVFL']\n",
            "\n",
            "\n",
            "Имена последовательностей первой части ['Q988H1_RHILO', 'Q92TY3_RHIME']\n",
            "Паттерн, отличающий первую часть последовательностей от второй [['H'], 'X2', ['R'], 'X1', ['K', 'R'], 'X1', ['T'], ['A', 'G'], ['A'], 'X1', ['K'], 'X2', ['F'], ['S'], 'X1', ['D'], ['L'], ['R'], ['A'], ['E'], 'X4', ['D'], ['A'], 'X2', ['E'], ['L'], ['V', 'L'], 'X1', ['R'], ['L'], ['P'], ['A'], ['A'], ['F'], 'X1', ['R'], ['W'], 'X2', ['L'], 'X1', ['Q']]\n",
            "Фрагменты последовательностей первой части, соответствующие этому паттерну ['HRPRLKGTAATKMFFSSDLRAELTGYDAAEELVSRLPAAFGRWHPLHQ', 'HDTRWRSTGAIKRLFSADLRAESQRRDAVSELLARLPAAFSRWSHLAQ']\n",
            "Фрагменты последовательностей второй части, соответствующие этому паттерну ['-WFGGLSVGESEAMLGRLLS---------ATPPDLFPYSSQIGSSLRR', '-----------------------------------------AATPVDQ', '-----------------------------------------ASAAVDK', '-----------------------------------------TDDAIYR', '-----------------------------------------TYPDPHH', '-----------------------------------------DWDRFSW', '-----------------------------------------GYEKIQG', '-----------------------------------------GTGTETR', '-----------------------------------------NALHLHK', '-----------------------------------------NKEEFHR', '-----------------------------------------SEKDLHD', '-----------------------------------------DRVEFHK', '-----------------------------------------NAREFHE', '-----------------------------------------NAKELHE', '-----------------------------------------NAQEFHE', '-----------------------------------------NAQAFHE', '-----------------------------------------TPKDFHE', '-----------------------------------------NAKEFHE', '-----------------------------------------SAGAFQK', '-----------------------------------------SPEKAEE', '-----------------------------------------SPKAGAE', '-LREEFIEKFKKRP---------------------SKELIWKIKTLNE', 'FYREALTPLFSPELRAMAAAG------GCWDGFEFDRGAVRGRHWLDR', '--------AALLRPDFAAELARA---DAAAPLLAAGAGLLAGRAPAHQ', '-LSSSLTDLLQEYDPVGE------------VAGAIDPAQVRGRHRLDV', '-LADEHRQALVEYSPGKA------------IAEQLNPQQLDGRHALDK', '-RIRKPTQMQRGRSWRDLINPDLARRTELIDRFHRAGYMPPGVQASDA', 'DWGAGADWEPLPKLPPWATPHAAATVRRQLLAALAATPQPLATLPVQH', 'PLPATVSTSLGWGMPPRLFDWVTADAERMAQRALREAAMTAVPLHPDR', 'LWHGLPAAVWEAQAALQPALAQSLGMQQSLDRSRYRLRLGGGHTSLPT', 'SVAIPAPHPWV--------------------------ADHRGVSPAKR', '-YYRLINRSNTFGNVVNWGMFEGIASSFDDFKQIFWGKNVGKESYFDS', '-SYLKSNDS-------------------------------SQADPWQS', '-YFRGINESWTPGQRARLFKQE----PAWRDPILETFQDFPSKEGEGW', '--------RDLPASLPL---------------VAEDDVLPREWGGLNR', '-PKLNGED--------------------------------PYNARMRE', '-PRFEEDT--------------------------------PEEARRRE', '-PLLDGET--------------------------------GVDKARRQ', '-PRLDGED--------------------------------KIDAKRRE', '-PVLQGED--------------------------------ETQVKQRV', '-PTLEGES--------------------------------KKSAKQRQ', '-EHLAQDS--------------------------------PHERRMRE', '-PHVDGDT--------------------------------AAERRARE', '-PQVAGES--------------------------------PAERRARE', '-PVLPGES--------------------------------APERRMRE', '-PRLASDS--------------------------------TRERRMRE', '-PRLDGED--------------------------------AAQRRQRE', '-FIGQAKVFDESESVELLKEEFKA-APTVKDIVGKTYKKAPEGSELRK', '-YYGNARSFSGAQLREVLPGFRP--DWTHTDVTAPVYAESAGWDPVAR', '-YYGNARSFNFEQMQRVIPWARR--EWDHREVTAPIYAQSRDMDPVAR', '-YYGNAKIFREEEKAELMKYYNE--SVNYMDITKPLYNEIKDYDDVSK', '-YIGNAKMFTEKEKQILLPKYQA--GHDYTNITDPFYAETTNYHPVER', '-YIGNAKIFEESVKKQLLKHYNP--NLSYRDVTKTYFTESSSYSDINK', 'LCHWRAPDDIGP-------------------------EPGDGSPGLHQ', '-YLSATIDSFEDAYAFSPNPHT-----QTLDQEITQILEDSSLSSLSK', '-----------------------------------------AHEALGQ', 'ETYNLLAHYGFETVFSPELLAKIDTAQPALLIERTYQDVSHARSLINR', '-YRDLQGYRAVEVLR-------------------DYADKSPTKDALSL', '------------------------------------------------', '-FPESMRASMYNDEFVQALPGH-----DPVDFLESVWARSEGRDVVTR', '-YELLVHNSKNYEIKELLGE--------TFPPKSRAFKVGERIHPMQG', '-YYRLIREWSDVSSITEYKYNQP--FTPISNERLNQSIHELKLDPVTF', '-YRNIISHWLNPEELVKNSSE-------PSTAFSSSTTFPVNGGYVDW', '-YR-LNSHWRNHEYPVIGAKG-------HTALLDTPERWPRVDSFQHW', '-YRLFVSYWADPGRVVIGG-----------TEPLSPFEQPMEGSTFDA', '-YRNRISRWRDPAAVVLGATE-------PDSFYSLADPLHGSGTPADA', '-QRLTESSTNKLIHHKP---------------AASNASATQLDGLLSR', '-YRLLMSSVHHPERIALSGQE-------PPTPLDTVSAWPAHLSFAEQ', '-YLGLVSHWQNPEQVVLGSKE-------PLTVLTDPKRKANFSDPILQ', '-YLRFVSHWHDPTSLVIGTEE-------PRTALTEPATVLEGADFEAR', '-YKGLVSLWERPAELVIDGS--------DISLWPEPLPDLNFTE---R', '-YTRVVSNWDLDEPLVKNTAV-------EKLPFLSDLTELSHLNDLEK', '--------HHAD-------------------------QLYRPEDYINH', '--------IKD--------------------------TPIKTEDYINY', '-YDRQELAGLLDPDLAPAVDD-------VLAEHADVYQDNELDDFVNR', '--------EAQRALWKSPGDMLE--PTRLFASTKRLWEALPDWPPMAR']\n",
            "\n",
            "\n",
            "Имена последовательностей первой части ['Q83DA7_COXBU', 'Q7W268_BORPA']\n",
            "Паттерн, отличающий первую часть последовательностей от второй [['E'], ['K'], 'X3', ['G'], ['K'], 'X1', ['I'], ['L'], ['R'], 'X1', ['V', 'M']]\n",
            "Фрагменты последовательностей первой части, соответствующие этому паттерну ['EKNRDGKTILREV', 'EKRMNGKKILRKM']\n",
            "Фрагменты последовательностей второй части, соответствующие этому паттерну ['---KGGKRVLRAA', '---DGGKGILKDV', '---DGGKQVLKEA', '---ENDKIIFREA', '---GIEKYILREA', '-EDNLRKRALRRV', 'NYDNLGKRVHRKL', '---DTAKWVLRSA', '--MKLEKHVLRSA', '--NKIEKYILRKA', '--NRIEKYILRKS', 'AGGRIEKWIVRKA', 'GPQRMEKGILRAA', '--GKMEKHVLREC', '--GKMEKHILREC', '--GRIEKHILRQA', '--KEIEKRIVREA', '--DRIEKNIIREA', '--YGKGKYLLRHA', '--NGIEKHLLRET', '--NGVEKHLLRDA', '---GITKVLLRKG', '---LVEKHILREA', '---LDEKHVLKRV', '---GREKHILRVA', '---GTGKYPLRAA', '---GVEKWVLREA', '---KTEKYVLREA', '---GFGRYVLRRA', '---GQFKPMLGTA', '---WQYKPLLTAA', '---GVSRSLPRRL', '---QLDRPYARAA', '---GELKRLLRVA', '---LWDKSVLRKS', '---EITKNLLKKI', '---GYTKAVARRA', '---NREKGILRYA', '---GREKGILRKA', '---NREKGILRKA', '---GHEKGILRKA', '---DIEKGILRRS', '---NIEKGILRRA', '---GEEKWLLKQA', '---GVEKSLLRSA', '---GQEKSLLRAA', '---GREKSLLRAA', '---GREKSLLRAA', '---GESKSLLRRA', '---HNTKYAFRQA', '---TTTKYALRRA', '---GTTKYALRKA', '---GTTKAILREA', '---GTTKYILRKA', '---GTTKYLLRKA', '---RPAKLIFRRA', '---KSTKFILREL', '---DTAKAPLVAL', '---TQLRYFFKQA', '---QEGKYILKRS', '---IANLYLLKEA', '---RRGKLILQDA', '---GKTKYILRKV', '---NCGKYILKEI', '---GVGKWPLREI', '---GKGKWLLREV', '---GTGKWLLRQL', '---GVSKYLLKRV', '---GKGKWILRQL', '---GQSKALLRRL', '---GKTKWCLREI', '---GQSKWLLRQV', '---GETKWLLRRV', '---GKGKWLLREV', '---RQGKAVLKEA', '---ATRKYLLKEA']\n",
            "\n",
            "\n",
            "Имена последовательностей первой части ['Q8KY35_STRCU', 'Q8KSW7_9ACTN']\n",
            "Паттерн, отличающий первую часть последовательностей от второй [['T'], ['M'], ['R'], 'X1', ['T'], ['P'], ['D'], ['A'], ['P'], ['F', 'Y'], ['A'], ['A'], ['L'], ['A'], 'X2', ['H'], ['I'], ['G']]\n",
            "Фрагменты последовательностей первой части, соответствующие этому паттерну ['TMRSTPDAPFAALASRHIG', 'TMRATPDAPYAALAAEHIG']\n",
            "Фрагменты последовательностей второй части, соответствующие этому паттерну ['--TGYSELDHARVIAGQFG', 'NGEKGDEFVYSDLIAGHFG', 'GGERGDEFQYSDLIAKHYG', '--YDDPEIIGASATASVLG', '--PGSKDIEIAQRYCTENN', '--EGSDDVEVAERLCDEMG', '--KGSSDILNSLEIAEKLD', '--PFGDEFAQAAWFAERLG', '--EDSPDLENAKKVADYLK', '--KGSPDLKAAKEVAEYLG', '--ENSPDLHSSRICARYLN', '--KGSPDLKAAREVAAFIG', '--KDSPDLSAANVAAEALN', '--EGSPDLKAAQEVANHLG', '--DGAPDLKAAREVAAKIG', '--KGAPDLIAAKKVADAIG', '--KGAPDLIKAREVAEYIG', '--NGSPDLAAAQKVADHLG', '-ETDPIDLKYAREVADFLR', '--EDSPDLLAARKVADHIG', '--EDSPDVAAARKVADYIG', '--KEIDESKYQRIVVDECR', '--AEHDESAFQEEMAAALG', '--AEYDETRFQRLVAEATG', '--GRMDEGGAAARTAEWLG', '--PAFDESAVARRTAAHLA', '-SDEYDESNIAKRMAERTG', '--R-YDETPIAAEMAEATG', '--SSMDERAFIDAVLDQHK', 'LGRSSDDRYWARQAEAALP', '--PGRDPADTDLYWAEQAA', '--HYYDESPRARRLAASHP', '-QREGDERVWAQRIADHFG', 'LGDAFDESRYAQALADE--', '--FTNEDAKYAHWLAKDLH', 'EYKHYDELPYAREVASHIG', '-GALNDERPMAEEAAAWAE', 'EFQPNSDADWVKFVANKLD', 'DFQPNADGPWVEKVSTTFR', 'AFQPNDDGPWIEKMTEAFG', 'KFQPSSDRAWIEKMVEGFS', '-EIEGPKKPWVEKVVKNVQ', 'FARTGLDAPWVKRVSEHVG', 'DLRPDQDQPFALLAAEFIG', 'AVRREADAPYVRELAGHVG', 'YLRGSPDAPFVRDLAAHAG', 'PWQSSWDEPYAQLAANFLG', '--GTFNESKQAKQLTDMIG', '--EGFSEIDVAVASAEAIG', '--EGYSEVDVAAESAAAIG', '--RGYSEVDVAKETAEKLG', '--DGFSEIDVAKETADKLG', '--QGFSEVDVAKETAAALG', '-GSTLDESGDAADSARRMG', '--GAYDESSLAELVAKRYK', '--EGDEESLLPHPRLQRFE', '--TGYDEMHYARIAARHFA', '--PAFDESDYARLVAERYQ', '--GKYDETPYIKIVVDYFK', '--ADFDETRYAAQVAEHLQ', '--PRYNEALYAKGVAEHLG', '--KRFDEATYARRISNYLG', '--KKYDEAIFAVEVARHLG', '--PGYDEAVYAKAVAEHIG', '--KGYNEAEHAKAVAAHLG', '--SHHDEAPLAREVATHLH', '--SGFDEAPHAAAVARHLG', '--AGYDEAGYAKAVARHLG', '--PRFNEAVFAKEVAKHLG', '--QDYNEAKHAKAVACHLR', '--KEYNEASYAKEVAQHLK', '--ADFNEASEASDVAKHLG', '--LGFDERSKAEYMSYCFK', '--LAFDERQAAEHLSYLAG', '--AMPDDLRYARRVAERFG', '--ASYDESAYAGRVAAQLG']\n",
            "\n",
            "\n",
            "Имена последовательностей первой части ['Q8EN79_OCEIH', 'ASNO_BACSU', 'Q9KCR1_BACHD', 'Q8RBJ9_CALS4']\n",
            "Паттерн, отличающий первую часть последовательностей от второй [['W', 'Y'], ['F', 'Y'], 'X1', ['Q'], ['L'], ['M'], 'X2', ['P'], ['Q'], ['L']]\n",
            "Фрагменты последовательностей первой части, соответствующие этому паттерну ['WFSQLMGSPQL', 'YFGQLMTGPQL', 'WFGQLMKGPQL', 'WYGQLMRGPQL']\n",
            "Фрагменты последовательностей второй части, соответствующие этому паттерну ['ARQNHERLLWS', 'ITPLRGSELWQ', 'LTPLRGSKLWQ', 'LTEESFKAAWN', '-----------', '----FPWEAPS', 'GHLFEKEQIWS', '-----------', '--------VYD', '-------QESV', '-------AECV', '-------RACV', '-------AETV', '-------AECV', '-------AECV', '-------AETV', '-------ARSV', '-------AKCV', '-----------', '-----------', '-----------', 'GKKNWSQELWK', 'RPASGFRDNAA', 'DGDLSNADNMA', 'AGGKARRYLER', 'GQRSGGEKLLQ', 'DGTIARRNDIV', 'ERV---QMDAV', 'VASLDVQYVWR', '----DTRPLMP', '-----QRPATP', 'AAAAEARRFEY', '----YCEPMIW', '---LFSRNIWA', 'ETPSVQLDITS', '--GEYKSQNWG', '------SKSWD', 'EKYQTYQNQSV', '-EINNFEARSA', '-YFNTQISRHS', 'QGAFAWVERAG', 'SGAFAWVERAS', '-AVSRPYDRGS', '-KTSTSPERAG', 'SPRASASPTAG', 'DKNDARRKLWT', 'GSSDHSRRLWT', 'GVSDHSRRLWT', 'DKGDYSRKIWT', 'GKFDYSRKIWT', 'DKADNSRKIWT', 'GAGHLAEQMLQ', 'APEKRAKMLWS', '-----GDQLFT', 'HASYHGTMVWL', 'GRRDYSAPIWT', '-----------', 'GEQNHGYRLWN', 'GEPVNVNKLWL', 'GVKDNSKKLWS', 'GQADYSRKLWS', 'GRRDHSRRLWS', 'GHRNWDSHLWG', 'GERKWHTHLWT', 'GNQDHFRDLWP', 'GRMNWQHQLWT', 'GKRNWQYQLWD', 'GRRNWAYHLWN', 'GKRNWQYSLWS', 'GKRDWSSQLWS', 'GIRNRRLLIWS', 'NHHNHRLLIWS', 'GQRDFSKHLWH', 'GKKDHRKGLWT']\n",
            "\n",
            "\n",
            "Имена последовательностей первой части ['Q8AAB4_BACTN', 'Q9RA27_MORMI', 'Q8EDI2_SHEON', 'Q7MMR0_VIBVY', 'Q8Z8G3_SALTI', 'B2I6B5_XYLF2']\n",
            "Паттерн, отличающий первую часть последовательностей от второй [['S', 'T'], 'X1', ['A'], ['W'], ['W'], ['P'], 'X1', ['L'], ['H'], ['S'], ['F'], 'X1', ['I', 'V'], ['G']]\n",
            "Фрагменты последовательностей первой части, соответствующие этому паттерну ['SEAWWPRLHSFAIG', 'SEAWWPQLHSFAVG', 'TEAWWPQLHSFAIG', 'TGAWWPQLHSFAVG', 'SDAWWPQLHSFAIG', 'TEAWWPQLHSFSVG']\n",
            "Фрагменты последовательностей второй части, соответствующие этому паттерну ['-----EPVRTFSVG', '-----RGLMSFSVG', '-----EDLSTFSIG', '----DSEIHTFTVG', '------DITAISFG', '------DVKCYAAG', '------EVICYTSG', '------SLSTYTVG', '-----QKPIAFSVG', 'NNSGPQKLRSFSIG', '---LNKKLKSFSIG', 'HVDPKSVVHSFSVG', '-----SPIKTFAIG', '---VQYPLQTFAIG', '---LPYPIQTFSIG', '----DGEIKVFSLV', '-----QGLRTFSVT', '-----RRFQTFSLR', '-----ASIAAFCAA', '------RLTAFTVR', '-----SPVKAFTIA', '-----GPVKAFTIG', '---RKPKLPTFSLV', '------DAHLVTVH', '------PARVVAST', 'LTRQPLPATAAATA', '-----PVIAAFNAY', '-----SRFQGFTGK', '------DLHTFTVL', '-----CSIETFSIG', '-RDSTAWRHAFVAT', '----GHKLITYSVD', '---GKGLIRTYSID', '---GKAPLHTYSID', '---GYGPLTTFSID', 'PINETSILKTFSCE', '----NKTLHTYSVD', '---TGGNINSFSVD', '---GSGPLRTFSVN', '---GAG-LRSFSVN', '------PVRSFSVD', '---GKGTVRSFSVD', '----ARRLPTFSVD', '---------TYSIG', '-----R-LITFTTG', '-----N-LLTFTTG', '------NLLTFSVG', '------AIKTFSVG', '------SLKTFSVG', '-----TQFSSFTAA', '------KLKTFTVA', '------QLQRFHLC', '-----EPAKTYSIG', '-----EPVNTCSIA', '-----SKLHTFSIG', '-----TPLRTFSIG', '-----H-IHTFTIG', '-----SQINTFTIG', '-----SPVKTFSIG', '-----RPIRTFSIG', '-----QPVRTFAIG', '-----QPVHTFSIG', '-----TPVRTFTIA', '-----TPVDTFTIG', '-----KPVKTFSIG', '-----RAVKTFTIG', '-----NRIKTFSIG', '-----RPVKTFTIG', '------YIKTFTCG', '------HIRTFTVG', '------GIPAYTIG', '------GIKTFSIG']\n",
            "\n",
            "\n",
            "Имена последовательностей первой части ['Q7X131_9PSED', 'Q92W82_RHIME']\n",
            "Паттерн, отличающий первую часть последовательностей от второй [['E', 'D'], ['A'], 'X1', ['G'], ['E'], ['K', 'R'], ['G'], ['D'], ['E'], ['F'], 'X1', ['Y'], ['S'], ['D'], ['L'], ['I'], ['A'], 'X1', ['H'], ['F', 'Y'], ['G']]\n",
            "Фрагменты последовательностей первой части, соответствующие этому паттерну ['EANGEKGDEFVYSDLIAGHFG', 'DAGGERGDEFQYSDLIAKHYG']\n",
            "Фрагменты последовательностей второй части, соответствующие этому паттерну ['----TGYSELDHARVIAGQFG', '----YDDPEIIGASATASVLG', '----PGSKDIEIAQRYCTENN', '----EGSDDVEVAERLCDEMG', '----KGSSDILNSLEIAEKLD', '----PFGDEFAQAAWFAERLG', '----EDSPDLENAKKVADYLK', '----KGSPDLKAAKEVAEYLG', '----ENSPDLHSSRICARYLN', '----KGSPDLKAAREVAAFIG', '----KDSPDLSAANVAAEALN', '----EGSPDLKAAQEVANHLG', '----DGAPDLKAAREVAAKIG', '----KGAPDLIAAKKVADAIG', '----KGAPDLIKAREVAEYIG', '----NGSPDLAAAQKVADHLG', '---ETDPIDLKYAREVADFLR', '----EDSPDLLAARKVADHIG', '----EDSPDVAAARKVADYIG', '----KEIDESKYQRIVVDECR', '----AEHDESAFQEEMAAALG', '----AEYDETRFQRLVAEATG', '----GRMDEGGAAARTAEWLG', '----PAFDESAVARRTAAHLA', '---SDEYDESNIAKRMAERTG', '----R-YDETPIAAEMAEATG', '----SSMDERAFIDAVLDQHK', 'A-LGRSSDDRYWARQAEAALP', '----PGRDPADTDLYWAEQAA', '----HYYDESPRARRLAASHP', '---QREGDERVWAQRIADHFG', '--LGDAFDESRYAQALADE--', '----FTNEDAKYAHWLAKDLH', '--EYKHYDELPYAREVASHIG', '---GALNDERPMAEEAAAWAE', '--EFQPNSDADWVKFVANKLD', '--DFQPNADGPWVEKVSTTFR', '--AFQPNDDGPWIEKMTEAFG', '--KFQPSSDRAWIEKMVEGFS', '---EIEGPKKPWVEKVVKNVQ', '--FARTGLDAPWVKRVSEHVG', '--DLRPDQDQPFALLAAEFIG', 'P-TMRSTPDAPFAALASRHIG', 'P-TMRATPDAPYAALAAEHIG', '--AVRREADAPYVRELAGHVG', '--YLRGSPDAPFVRDLAAHAG', '--PWQSSWDEPYAQLAANFLG', '----GTFNESKQAKQLTDMIG', '----EGFSEIDVAVASAEAIG', '----EGYSEVDVAAESAAAIG', '----RGYSEVDVAKETAEKLG', '----DGFSEIDVAKETADKLG', '----QGFSEVDVAKETAAALG', '---GSTLDESGDAADSARRMG', '----GAYDESSLAELVAKRYK', '----EGDEESLLPHPRLQRFE', '----TGYDEMHYARIAARHFA', '----PAFDESDYARLVAERYQ', '----GKYDETPYIKIVVDYFK', '----ADFDETRYAAQVAEHLQ', '----PRYNEALYAKGVAEHLG', '----KRFDEATYARRISNYLG', '----KKYDEAIFAVEVARHLG', '----PGYDEAVYAKAVAEHIG', '----KGYNEAEHAKAVAAHLG', '----SHHDEAPLAREVATHLH', '----SGFDEAPHAAAVARHLG', '----AGYDEAGYAKAVARHLG', '----PRFNEAVFAKEVAKHLG', '----QDYNEAKHAKAVACHLR', '----KEYNEASYAKEVAQHLK', '----ADFNEASEASDVAKHLG', '----LGFDERSKAEYMSYCFK', '----LAFDERQAAEHLSYLAG', '----AMPDDLRYARRVAERFG', '----ASYDESAYAGRVAAQLG']\n",
            "\n",
            "\n"
          ]
        }
      ]
    },
    {
      "cell_type": "code",
      "source": [],
      "metadata": {
        "id": "cwtHbx_J6G5f"
      },
      "execution_count": null,
      "outputs": []
    }
  ],
  "metadata": {
    "colab": {
      "provenance": [],
      "authorship_tag": "ABX9TyNuBLTltITEPJgoFca1xSKY",
      "include_colab_link": true
    },
    "kernelspec": {
      "display_name": "Python 3",
      "name": "python3"
    },
    "language_info": {
      "name": "python"
    }
  },
  "nbformat": 4,
  "nbformat_minor": 0
}